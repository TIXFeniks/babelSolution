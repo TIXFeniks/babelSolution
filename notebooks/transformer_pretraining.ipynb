{
 "cells": [
  {
   "cell_type": "code",
   "execution_count": 1,
   "metadata": {
    "scrolled": true
   },
   "outputs": [
    {
     "name": "stdout",
     "output_type": "stream",
     "text": [
      "env: CUDA_VISIBLE_DEVICES=0\n"
     ]
    }
   ],
   "source": [
    "%load_ext autoreload\n",
    "%autoreload 2\n",
    "%env CUDA_VISIBLE_DEVICES=0\n",
    "import sys; sys.path.append('.')"
   ]
  },
  {
   "cell_type": "code",
   "execution_count": 2,
   "metadata": {},
   "outputs": [
    {
     "data": {
      "text/plain": [
       "5453204"
      ]
     },
     "execution_count": 2,
     "metadata": {},
     "output_type": "execute_result"
    }
   ],
   "source": [
    "#TMP - rm when format gets fixed\n",
    "_='\\n'.join(filter(len, open(\"./data/bpe_parallel2.txt\").read().split('\\n')))\n",
    "open(\"./data/bpe_parallel2.txt\", 'w').write(_)"
   ]
  },
  {
   "cell_type": "code",
   "execution_count": 3,
   "metadata": {
    "collapsed": true
   },
   "outputs": [],
   "source": [
    "import numpy as np\n",
    "from vocab import Vocab\n",
    "inp_voc = Vocab.from_file(\"./data/1.voc\")\n",
    "out_voc = Vocab.from_file(\"./data/2.voc\")"
   ]
  },
  {
   "cell_type": "code",
   "execution_count": 4,
   "metadata": {
    "collapsed": true
   },
   "outputs": [],
   "source": [
    "import tensorflow as tf\n",
    "from models.transformer_other import Model \n",
    "from lib.tensor_utils import infer_length, infer_mask\n"
   ]
  },
  {
   "cell_type": "code",
   "execution_count": 5,
   "metadata": {
    "collapsed": true
   },
   "outputs": [],
   "source": [
    "\n",
    "tf.reset_default_graph()\n",
    "config = tf.ConfigProto()\n",
    "config.gpu_options.allow_growth = True\n",
    "config.gpu_options.per_process_gpu_memory_fraction = 0.95\n",
    "sess = tf.InteractiveSession(config=config)\n",
    "\n",
    "\n",
    "mini_hp = {\n",
    "        'hid_size': 256,\n",
    "        'ff_size': 1024,\n",
    "        'num_heads': 4,\n",
    "        'num_layers': 2,\n",
    "    \n",
    "        'rescale_emb': True,\n",
    "        'relu_dropout': 0.,\n",
    "        'res_dropout': 0.,\n",
    "        'attn_dropout': 0.,\n",
    "        'inp_emb_bias': True,\n",
    "        'res_steps': 'nlda',\n",
    "        'normalize_out': True,\n",
    "        'force_bos': True,\n",
    "        'dwwt':True\n",
    "}\n",
    "\n",
    "model = Model('mod',inp_voc,out_voc,**mini_hp)"
   ]
  },
  {
   "cell_type": "code",
   "execution_count": 6,
   "metadata": {
    "collapsed": true
   },
   "outputs": [],
   "source": [
    "from itertools import islice, chain\n",
    "class train:\n",
    "    \n",
    "    def iterate_lines(batch_size=16, batches_per_epoch=None, skip_lines=0,\n",
    "                      src_path = \"./data/bpe_parallel1.txt\",\n",
    "                      dst_path = \"./data/bpe_parallel2.txt\",\n",
    "                      ):\n",
    "        while True:\n",
    "            with open(src_path) as f_src, open(dst_path) as f_dst:\n",
    "                \n",
    "                num_lines = batches_per_epoch * batch_size if batches_per_epoch is not None else None\n",
    "                \n",
    "                f_src = islice(f_src, skip_lines, num_lines)\n",
    "                f_dst = islice(f_dst, skip_lines, num_lines)\n",
    "\n",
    "                batch = []\n",
    "                for src_line, dst_line in zip(f_src, f_dst):\n",
    "                    if len(src_line) ==0 or len(dst_line)==0: continue\n",
    "                    \n",
    "                    batch.append([src_line[:-1], dst_line[:-1]])\n",
    "                    if len(batch) >= batch_size:\n",
    "                        yield (batch)\n",
    "                        batch = []\n",
    "                \n",
    "                if batches_per_epoch is not None:\n",
    "                    raise StopIteration()        \n",
    "    \n",
    "class dev:\n",
    "    dev_src = \"./data/bpe_parallel1.txt\"\n",
    "    dev_dst = \"./data/bpe_parallel2.txt\"\n",
    "\n",
    "    inp_lines = np.array(open(dev_src).read()[:-1].split('\\n'))\n",
    "    out_lines = np.array(open(dev_dst).read()[:-1].split('\\n'))"
   ]
  },
  {
   "cell_type": "code",
   "execution_count": 7,
   "metadata": {
    "collapsed": true
   },
   "outputs": [],
   "source": [
    "from bleu import compute_bleu"
   ]
  },
  {
   "cell_type": "code",
   "execution_count": 8,
   "metadata": {
    "collapsed": true
   },
   "outputs": [],
   "source": [
    "inp = tf.placeholder(\"int32\", [None,None], name=\"inp\")\n",
    "out = tf.placeholder(\"int32\", [None,None], name=\"out\")"
   ]
  },
  {
   "cell_type": "code",
   "execution_count": 9,
   "metadata": {
    "collapsed": true
   },
   "outputs": [],
   "source": [
    "logits = model.symbolic_score(inp, out, is_train=True) [:, :tf.shape(out)[1]]\n",
    "# logits are already alligned with out"
   ]
  },
  {
   "cell_type": "code",
   "execution_count": 10,
   "metadata": {
    "collapsed": true
   },
   "outputs": [],
   "source": [
    "from lib.tensor_utils import infer_mask, initialize_uninitialized_variables\n",
    "\n",
    "nll = tf.nn.sparse_softmax_cross_entropy_with_logits(logits=logits, labels=out)\n",
    "\n",
    "loss = nll * infer_mask(out, out_voc.eos, dtype=tf.float32)\n",
    "\n",
    "loss = tf.reduce_sum(loss, axis=1)\n",
    "loss = tf.reduce_mean(loss)"
   ]
  },
  {
   "cell_type": "code",
   "execution_count": 11,
   "metadata": {
    "collapsed": true
   },
   "outputs": [],
   "source": [
    "weights = tf.get_collection(tf.GraphKeys.TRAINABLE_VARIABLES, model.name)\n",
    "grads = tf.gradients(loss, weights)\n",
    "grads = tf.clip_by_global_norm(grads, 100)[0]\n",
    "train_step = tf.train.AdamOptimizer(learning_rate=1e-4, beta2=0.98).apply_gradients(zip(grads,weights))"
   ]
  },
  {
   "cell_type": "code",
   "execution_count": 12,
   "metadata": {
    "collapsed": true
   },
   "outputs": [],
   "source": [
    "translation = model.symbolic_translate(inp, mode='sample', max_len=100)"
   ]
  },
  {
   "cell_type": "code",
   "execution_count": 13,
   "metadata": {
    "collapsed": true
   },
   "outputs": [],
   "source": [
    "pred = translation.best_out"
   ]
  },
  {
   "cell_type": "code",
   "execution_count": 14,
   "metadata": {
    "collapsed": true
   },
   "outputs": [],
   "source": [
    "initialize_uninitialized_variables(sess)"
   ]
  },
  {
   "cell_type": "code",
   "execution_count": 15,
   "metadata": {
    "collapsed": true
   },
   "outputs": [],
   "source": [
    "from IPython.display import clear_output\n",
    "import matplotlib.pyplot as plt\n",
    "%matplotlib inline\n",
    "from itertools import count\n",
    "from pandas import ewma\n",
    "from tqdm import tqdm\n",
    "from time import sleep\n",
    "epoch = 0\n",
    "loss_history = []\n",
    "bleu_history = []"
   ]
  },
  {
   "cell_type": "code",
   "execution_count": 39,
   "metadata": {},
   "outputs": [
    {
     "data": {
      "image/png": "[encoded data removed]",
      "text/plain": [
       "<matplotlib.figure.Figure at 0x7f35f1506e10>"
      ]
     },
     "metadata": {},
     "output_type": "display_data"
    },
    {
     "name": "stderr",
     "output_type": "stream",
     "text": [
      "15962it [1:16:39,  3.47it/s]\n"
     ]
    },
    {
     "ename": "KeyboardInterrupt",
     "evalue": "",
     "output_type": "error",
     "traceback": [
      "\u001b[0;31m---------------------------------------------------------------------------\u001b[0m",
      "\u001b[0;31mKeyboardInterrupt\u001b[0m                         Traceback (most recent call last)",
      "\u001b[0;32m<ipython-input-39-be6163c52340>\u001b[0m in \u001b[0;36m<module>\u001b[0;34m()\u001b[0m\n\u001b[1;32m      8\u001b[0m \u001b[0;34m\u001b[0m\u001b[0m\n\u001b[1;32m      9\u001b[0m     \u001b[0mloss_t\u001b[0m \u001b[0;34m=\u001b[0m \u001b[0msess\u001b[0m\u001b[0;34m.\u001b[0m\u001b[0mrun\u001b[0m\u001b[0;34m(\u001b[0m\u001b[0;34m[\u001b[0m\u001b[0mtrain_step\u001b[0m\u001b[0;34m,\u001b[0m \u001b[0mloss\u001b[0m\u001b[0;34m]\u001b[0m\u001b[0;34m,\u001b[0m \u001b[0mfeed_dict\u001b[0m\u001b[0;34m)\u001b[0m\u001b[0;34m[\u001b[0m\u001b[0;36m1\u001b[0m\u001b[0;34m]\u001b[0m\u001b[0;34m\u001b[0m\u001b[0m\n\u001b[0;32m---> 10\u001b[0;31m     \u001b[0mloss_d\u001b[0m \u001b[0;34m=\u001b[0m \u001b[0msess\u001b[0m\u001b[0;34m.\u001b[0m\u001b[0mrun\u001b[0m\u001b[0;34m(\u001b[0m\u001b[0;34m[\u001b[0m\u001b[0mdisc_train_step\u001b[0m\u001b[0;34m,\u001b[0m \u001b[0mdisc_loss\u001b[0m\u001b[0;34m]\u001b[0m\u001b[0;34m,\u001b[0m \u001b[0mfeed_dict\u001b[0m\u001b[0;34m)\u001b[0m\u001b[0;34m[\u001b[0m\u001b[0;36m1\u001b[0m\u001b[0;34m]\u001b[0m\u001b[0;34m\u001b[0m\u001b[0m\n\u001b[0m\u001b[1;32m     11\u001b[0m \u001b[0;34m\u001b[0m\u001b[0m\n\u001b[1;32m     12\u001b[0m \u001b[0;34m\u001b[0m\u001b[0m\n",
      "\u001b[0;32m/opt/anaconda/lib/python3.6/site-packages/tensorflow/python/client/session.py\u001b[0m in \u001b[0;36mrun\u001b[0;34m(self, fetches, feed_dict, options, run_metadata)\u001b[0m\n\u001b[1;32m    887\u001b[0m     \u001b[0;32mtry\u001b[0m\u001b[0;34m:\u001b[0m\u001b[0;34m\u001b[0m\u001b[0m\n\u001b[1;32m    888\u001b[0m       result = self._run(None, fetches, feed_dict, options_ptr,\n\u001b[0;32m--> 889\u001b[0;31m                          run_metadata_ptr)\n\u001b[0m\u001b[1;32m    890\u001b[0m       \u001b[0;32mif\u001b[0m \u001b[0mrun_metadata\u001b[0m\u001b[0;34m:\u001b[0m\u001b[0;34m\u001b[0m\u001b[0m\n\u001b[1;32m    891\u001b[0m         \u001b[0mproto_data\u001b[0m \u001b[0;34m=\u001b[0m \u001b[0mtf_session\u001b[0m\u001b[0;34m.\u001b[0m\u001b[0mTF_GetBuffer\u001b[0m\u001b[0;34m(\u001b[0m\u001b[0mrun_metadata_ptr\u001b[0m\u001b[0;34m)\u001b[0m\u001b[0;34m\u001b[0m\u001b[0m\n",
      "\u001b[0;32m/opt/anaconda/lib/python3.6/site-packages/tensorflow/python/client/session.py\u001b[0m in \u001b[0;36m_run\u001b[0;34m(self, handle, fetches, feed_dict, options, run_metadata)\u001b[0m\n\u001b[1;32m   1118\u001b[0m     \u001b[0;32mif\u001b[0m \u001b[0mfinal_fetches\u001b[0m \u001b[0;32mor\u001b[0m \u001b[0mfinal_targets\u001b[0m \u001b[0;32mor\u001b[0m \u001b[0;34m(\u001b[0m\u001b[0mhandle\u001b[0m \u001b[0;32mand\u001b[0m \u001b[0mfeed_dict_tensor\u001b[0m\u001b[0;34m)\u001b[0m\u001b[0;34m:\u001b[0m\u001b[0;34m\u001b[0m\u001b[0m\n\u001b[1;32m   1119\u001b[0m       results = self._do_run(handle, final_targets, final_fetches,\n\u001b[0;32m-> 1120\u001b[0;31m                              feed_dict_tensor, options, run_metadata)\n\u001b[0m\u001b[1;32m   1121\u001b[0m     \u001b[0;32melse\u001b[0m\u001b[0;34m:\u001b[0m\u001b[0;34m\u001b[0m\u001b[0m\n\u001b[1;32m   1122\u001b[0m       \u001b[0mresults\u001b[0m \u001b[0;34m=\u001b[0m \u001b[0;34m[\u001b[0m\u001b[0;34m]\u001b[0m\u001b[0;34m\u001b[0m\u001b[0m\n",
      "\u001b[0;32m/opt/anaconda/lib/python3.6/site-packages/tensorflow/python/client/session.py\u001b[0m in \u001b[0;36m_do_run\u001b[0;34m(self, handle, target_list, fetch_list, feed_dict, options, run_metadata)\u001b[0m\n\u001b[1;32m   1315\u001b[0m     \u001b[0;32mif\u001b[0m \u001b[0mhandle\u001b[0m \u001b[0;32mis\u001b[0m \u001b[0;32mNone\u001b[0m\u001b[0;34m:\u001b[0m\u001b[0;34m\u001b[0m\u001b[0m\n\u001b[1;32m   1316\u001b[0m       return self._do_call(_run_fn, self._session, feeds, fetches, targets,\n\u001b[0;32m-> 1317\u001b[0;31m                            options, run_metadata)\n\u001b[0m\u001b[1;32m   1318\u001b[0m     \u001b[0;32melse\u001b[0m\u001b[0;34m:\u001b[0m\u001b[0;34m\u001b[0m\u001b[0m\n\u001b[1;32m   1319\u001b[0m       \u001b[0;32mreturn\u001b[0m \u001b[0mself\u001b[0m\u001b[0;34m.\u001b[0m\u001b[0m_do_call\u001b[0m\u001b[0;34m(\u001b[0m\u001b[0m_prun_fn\u001b[0m\u001b[0;34m,\u001b[0m \u001b[0mself\u001b[0m\u001b[0;34m.\u001b[0m\u001b[0m_session\u001b[0m\u001b[0;34m,\u001b[0m \u001b[0mhandle\u001b[0m\u001b[0;34m,\u001b[0m \u001b[0mfeeds\u001b[0m\u001b[0;34m,\u001b[0m \u001b[0mfetches\u001b[0m\u001b[0;34m)\u001b[0m\u001b[0;34m\u001b[0m\u001b[0m\n",
      "\u001b[0;32m/opt/anaconda/lib/python3.6/site-packages/tensorflow/python/client/session.py\u001b[0m in \u001b[0;36m_do_call\u001b[0;34m(self, fn, *args)\u001b[0m\n\u001b[1;32m   1321\u001b[0m   \u001b[0;32mdef\u001b[0m \u001b[0m_do_call\u001b[0m\u001b[0;34m(\u001b[0m\u001b[0mself\u001b[0m\u001b[0;34m,\u001b[0m \u001b[0mfn\u001b[0m\u001b[0;34m,\u001b[0m \u001b[0;34m*\u001b[0m\u001b[0margs\u001b[0m\u001b[0;34m)\u001b[0m\u001b[0;34m:\u001b[0m\u001b[0;34m\u001b[0m\u001b[0m\n\u001b[1;32m   1322\u001b[0m     \u001b[0;32mtry\u001b[0m\u001b[0;34m:\u001b[0m\u001b[0;34m\u001b[0m\u001b[0m\n\u001b[0;32m-> 1323\u001b[0;31m       \u001b[0;32mreturn\u001b[0m \u001b[0mfn\u001b[0m\u001b[0;34m(\u001b[0m\u001b[0;34m*\u001b[0m\u001b[0margs\u001b[0m\u001b[0;34m)\u001b[0m\u001b[0;34m\u001b[0m\u001b[0m\n\u001b[0m\u001b[1;32m   1324\u001b[0m     \u001b[0;32mexcept\u001b[0m \u001b[0merrors\u001b[0m\u001b[0;34m.\u001b[0m\u001b[0mOpError\u001b[0m \u001b[0;32mas\u001b[0m \u001b[0me\u001b[0m\u001b[0;34m:\u001b[0m\u001b[0;34m\u001b[0m\u001b[0m\n\u001b[1;32m   1325\u001b[0m       \u001b[0mmessage\u001b[0m \u001b[0;34m=\u001b[0m \u001b[0mcompat\u001b[0m\u001b[0;34m.\u001b[0m\u001b[0mas_text\u001b[0m\u001b[0;34m(\u001b[0m\u001b[0me\u001b[0m\u001b[0;34m.\u001b[0m\u001b[0mmessage\u001b[0m\u001b[0;34m)\u001b[0m\u001b[0;34m\u001b[0m\u001b[0m\n",
      "\u001b[0;32m/opt/anaconda/lib/python3.6/site-packages/tensorflow/python/client/session.py\u001b[0m in \u001b[0;36m_run_fn\u001b[0;34m(session, feed_dict, fetch_list, target_list, options, run_metadata)\u001b[0m\n\u001b[1;32m   1300\u001b[0m           return tf_session.TF_Run(session, options,\n\u001b[1;32m   1301\u001b[0m                                    \u001b[0mfeed_dict\u001b[0m\u001b[0;34m,\u001b[0m \u001b[0mfetch_list\u001b[0m\u001b[0;34m,\u001b[0m \u001b[0mtarget_list\u001b[0m\u001b[0;34m,\u001b[0m\u001b[0;34m\u001b[0m\u001b[0m\n\u001b[0;32m-> 1302\u001b[0;31m                                    status, run_metadata)\n\u001b[0m\u001b[1;32m   1303\u001b[0m \u001b[0;34m\u001b[0m\u001b[0m\n\u001b[1;32m   1304\u001b[0m     \u001b[0;32mdef\u001b[0m \u001b[0m_prun_fn\u001b[0m\u001b[0;34m(\u001b[0m\u001b[0msession\u001b[0m\u001b[0;34m,\u001b[0m \u001b[0mhandle\u001b[0m\u001b[0;34m,\u001b[0m \u001b[0mfeed_dict\u001b[0m\u001b[0;34m,\u001b[0m \u001b[0mfetch_list\u001b[0m\u001b[0;34m)\u001b[0m\u001b[0;34m:\u001b[0m\u001b[0;34m\u001b[0m\u001b[0m\n",
      "\u001b[0;31mKeyboardInterrupt\u001b[0m: "
     ]
    }
   ],
   "source": [
    "batch_size = 10\n",
    "for i, batch in enumerate(tqdm(train.iterate_lines(batch_size, batches_per_epoch=None))):\n",
    "    batch_src, batch_dst = zip(*batch)\n",
    "    batch_src_ix = inp_voc.tokenize_many(batch_src)\n",
    "    batch_dst_ix = out_voc.tokenize_many(batch_dst)\n",
    "    \n",
    "    feed_dict = {inp: batch_src_ix, out: batch_dst_ix}\n",
    "    \n",
    "    loss_t = sess.run([train_step, loss], feed_dict)[1]\n",
    "    \n",
    "    loss_history.append(np.mean(loss_t))\n",
    "        \n",
    "    if (epoch+1) % 500 == 0:\n",
    "        #test_bleu_history.append([epoch,compute_bleu(model, dev.inp_lines[::5], dev.out_lines[::5])[0]])\n",
    "        \n",
    "        \n",
    "        w_variables = tf.get_collection(tf.GraphKeys.TRAINABLE_VARIABLES, scope=\"{0}/\".format(model.name))\n",
    "        w_values = sess.run(w_variables)\n",
    "        weights_dict = {w.name: w_val for w, w_val in zip(w_variables,w_values)}\n",
    "        np.savez(\"./mimic-model-%i.npz\"%epoch, **weights_dict)\n",
    "        \n",
    "        d_variables = tf.get_collection(tf.GraphKeys.TRAINABLE_VARIABLES, scope=\"{0}/\".format(discriminator.name))\n",
    "        d_values = sess.run(d_variables)\n",
    "        disc_weights_dict = {d.name: d_val for d, d_val in zip(d_variables,d_values)}\n",
    "        np.savez(\"./mimic-disc-%i.npz\"%epoch, **disc_weights_dict)\n",
    "        \n",
    "    \n",
    "    if epoch % 10 == 0:\n",
    "        clear_output(True)\n",
    "        plt.figure(figsize=[15,8])\n",
    "        plt.subplot(121)\n",
    "        plt.title(\"batch loss\")\n",
    "        plt.plot(loss_history)\n",
    "        plt.plot(ewma(np.array(loss_history),span=50))\n",
    "        plt.grid()\n",
    "        plt.subplot(122)\n",
    "        plt.title(\"disc loss\")\n",
    "        plt.plot(disc_loss_history)\n",
    "        plt.plot(ewma(np.array(disc_loss_history),span=50))\n",
    "        plt.grid()\n",
    "        plt.show()\n",
    "    epoch +=1\n",
    "        "
   ]
  },
  {
   "cell_type": "code",
   "execution_count": 19,
   "metadata": {
    "collapsed": true
   },
   "outputs": [],
   "source": [
    "w_variables = tf.get_collection(tf.GraphKeys.TRAINABLE_VARIABLES, scope=\"{0}/\".format(model.name))\n",
    "weights_dict = {w.name: w for w in w_variables}\n",
    "with np.load(\"./mimic-model-8499.npz\") as file:\n",
    "    for key in file:\n",
    "        value = file[key]\n",
    "        sess.run([tf.assign(weights_dict[key],value )])\n",
    "\n",
    "\n",
    "d_variables = tf.get_collection(tf.GraphKeys.TRAINABLE_VARIABLES, scope=\"{0}/\".format(discriminator.name))\n",
    "disc_weights_dict = {d.name: d for d in d_variables}\n",
    "with np.load(\"./mimic-disc-8499.npz\") as file:\n",
    "    for key in file:\n",
    "        value = file[key]\n",
    "        sess.run([tf.assign(disc_weights_dict[key],value )])"
   ]
  },
  {
   "cell_type": "code",
   "execution_count": 40,
   "metadata": {},
   "outputs": [
    {
     "data": {
      "text/plain": [
       "['The kitchenette comes with a fridge , electric kettle and kitchen utensils .',\n",
       " 'With vaulted ceilings , each room at B &amp; B Ghalà will provide you with a desk and a safe .',\n",
       " 'Louvre Museum is 800 metres from Welcome Hotel , while Notre Dame Cathedral is 900 metres away .',\n",
       " 'The property features a garden with BBQ facilities and free WiFi in public areas .',\n",
       " 'The nearest airport is Anapa Airport , 13 km from the property .',\n",
       " 'The Sheraton is within easy walking distance to shops , outdoor cafés and cultural attractions of Zagreb .',\n",
       " 'Free local calls are included .',\n",
       " 'Towels are featured .',\n",
       " 'This bed and breakfast has water sports facilities and free use of bicycles is available .',\n",
       " 'Visitors can also discover the nearby towns of Waiblingen and Ludwigsburg .']"
      ]
     },
     "execution_count": 40,
     "metadata": {},
     "output_type": "execute_result"
    }
   ],
   "source": [
    "inp_voc.detokenize_many(batch_src_ix, unbpe=True, deprocess=True)"
   ]
  },
  {
   "cell_type": "code",
   "execution_count": 41,
   "metadata": {},
   "outputs": [
    {
     "data": {
      "text/plain": [
       "['В апартаментах есть мини-кухня с холодильником , электрическим чайником и Дубровника .',\n",
       " 'Во всех бесплатный Wi-Fi фунтов Парно двухвребеседкой тренажерном зале , мотеля есть письменный стол и сейф .',\n",
       " \"В 800 метрах от отеля полностью house Real находится Музей вский `` Южный Моставить на ,'' а в 900 метрах - телевизору .\",\n",
       " 'Гостям предлагается размещение в саду с принадлежностями для барбекю и бесплатный Wi-Fi в местах общественного пользования .',\n",
       " 'Расстояние до аэропорта шумит Велиндбезопасное на составляет 13 км .',\n",
       " 'гранполулюкс Hкигровая площадка , открытый кафе и герской кухни .',\n",
       " 'фумигабесплатное посудомоечной машиной .',\n",
       " 'Предоставляются полотенца .',\n",
       " 'Гостям предоставляется бесплатный прокат велосипедов и бесплатные ГолуМоломассажиигровая серных .',\n",
       " 'Листа , интерьер этого Villa Bad Trav-Garden , предупредить изучать И Рямбруфен .']"
      ]
     },
     "execution_count": 41,
     "metadata": {},
     "output_type": "execute_result"
    }
   ],
   "source": [
    "out_voc.detokenize_many(sess.run(pred,feed_dict= {inp: batch_src_ix}) , unbpe=True, deprocess=True)"
   ]
  },
  {
   "cell_type": "code",
   "execution_count": null,
   "metadata": {
    "collapsed": true
   },
   "outputs": [],
   "source": []
  }
 ],
 "metadata": {
  "kernelspec": {
   "display_name": "Python 3",
   "language": "python",
   "name": "python3"
  },
  "language_info": {
   "codemirror_mode": {
    "name": "ipython",
    "version": 3
   },
   "file_extension": ".py",
   "mimetype": "text/x-python",
   "name": "python",
   "nbconvert_exporter": "python",
   "pygments_lexer": "ipython3",
   "version": "3.6.3"
  }
 },
 "nbformat": 4,
 "nbformat_minor": 2
}
