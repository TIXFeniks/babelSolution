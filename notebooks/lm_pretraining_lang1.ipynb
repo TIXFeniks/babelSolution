{
 "cells": [
  {
   "cell_type": "code",
   "execution_count": 1,
   "metadata": {},
   "outputs": [
    {
     "name": "stdout",
     "output_type": "stream",
     "text": [
      "env: CUDA_VISIBLE_DEVICES=2\n"
     ]
    }
   ],
   "source": [
    "%load_ext autoreload\n",
    "%autoreload 2\n",
    "%env CUDA_VISIBLE_DEVICES=2\n",
    "import sys; sys.path.append('..')"
   ]
  },
  {
   "cell_type": "code",
   "execution_count": 2,
   "metadata": {},
   "outputs": [],
   "source": [
    "import numpy as np\n",
    "from vocab import Vocab\n",
    "voc = Vocab.from_file(\"../data/2.voc\")"
   ]
  },
  {
   "cell_type": "code",
   "execution_count": 3,
   "metadata": {},
   "outputs": [],
   "source": [
    "import tensorflow as tf\n",
    "import models.transformer as tr\n",
    "from lib.tensor_utils import infer_length, infer_mask\n",
    "\n",
    "tf.reset_default_graph()\n",
    "config = tf.ConfigProto()\n",
    "config.gpu_options.allow_growth=True\n",
    "config.gpu_options.per_process_gpu_memory_fraction=0.333\n",
    "\n",
    "sess = tf.InteractiveSession(config=config)\n",
    "sess.run(tf.global_variables_initializer())\n",
    "\n",
    "mini_hp = {\n",
    "        \"hid_size\": 256,\n",
    "        \"ff_size\": 1024,\n",
    "        \"num_heads\": 4,\n",
    "        \"num_layers\": 4,\n",
    "        \"rescale_emb\": True,\n",
    "        \"relu_dropout\": 0.0,\n",
    "        \"res_dropout\": 0.0,\n",
    "        \"attn_dropout\": 0.0,\n",
    "        \"inp_emb_bias\": True,\n",
    "        \"res_steps\": \"nlda\",\n",
    "        \"normalize_out\": True,\n",
    "        \"force_bos\": True\n",
    "}\n",
    "\n",
    "\n"
   ]
  },
  {
   "cell_type": "code",
   "execution_count": 4,
   "metadata": {},
   "outputs": [],
   "source": [
    "from lib.transformer_layers import TransformerEncoder\n",
    "from lib.layers import Dense\n",
    "from lib.tensor_utils import infer_mask, infer_length\n",
    "\n",
    "class TransformerLM:\n",
    "    \n",
    "    def __init__(self, name, voc, **hp):\n",
    "        self.voc = voc\n",
    "        self.name= name\n",
    "        assert hp['force_bos'] is True, \"this is build with force_bos in mind\"\n",
    "        hp['num_layers_enc'] = hp.get('num_layers', 1)\n",
    "        \n",
    "        with tf.variable_scope(name):\n",
    "            self.enc = TransformerEncoder('main', \n",
    "                                          inp_voc=voc,\n",
    "                                          allow_lookahead=False,\n",
    "                                          **hp)\n",
    "            self.logits = Dense('logits', self.enc.hid_size, len(voc))\n",
    "            \n",
    "    def __call__(self, inp, is_train=False, after_eos=False):\n",
    "        mask = infer_mask(inp, self.voc.eos, dtype=tf.float32)\n",
    "        inp_len = infer_length(inp, self.voc.eos)\n",
    "        \n",
    "        enc_out, _ = self.enc(inp, is_train=is_train)\n",
    "        \n",
    "        logits = self.logits(enc_out)\n",
    "        \n",
    "        # shift logits forward\n",
    "        if not after_eos:\n",
    "            logits = logits[:,:-1]\n",
    "            \n",
    "        logits = tf.concat([tf.one_hot(inp[:, :1], len(self.voc)) * 100, logits], axis=1)\n",
    "        return logits\n",
    "    \n"
   ]
  },
  {
   "cell_type": "code",
   "execution_count": 5,
   "metadata": {},
   "outputs": [],
   "source": [
    "lines = open(\"../data/bpe_corpus2.txt\").read().split('\\n')[:-1]"
   ]
  },
  {
   "cell_type": "code",
   "execution_count": 6,
   "metadata": {},
   "outputs": [],
   "source": [
    "_dummy = np.arange(5,30, dtype='int32').reshape([5,5])\n",
    "inp = tf.placeholder_with_default(_dummy, [None,None])"
   ]
  },
  {
   "cell_type": "code",
   "execution_count": 7,
   "metadata": {},
   "outputs": [],
   "source": [
    "lm = TransformerLM('lm', voc, **mini_hp)"
   ]
  },
  {
   "cell_type": "code",
   "execution_count": 8,
   "metadata": {},
   "outputs": [],
   "source": [
    "logits = lm(inp, is_train=True)"
   ]
  },
  {
   "cell_type": "code",
   "execution_count": 9,
   "metadata": {},
   "outputs": [],
   "source": [
    "from lib.tensor_utils import infer_mask, initialize_uninitialized_variables\n",
    "\n",
    "nll = tf.nn.sparse_softmax_cross_entropy_with_logits(logits=logits, labels=inp)\n",
    "\n",
    "loss = nll * infer_mask(inp, voc.eos, dtype=tf.float32)\n",
    "\n",
    "loss = tf.reduce_sum(loss, axis=1)\n",
    "loss = tf.reduce_mean(loss)"
   ]
  },
  {
   "cell_type": "code",
   "execution_count": 10,
   "metadata": {},
   "outputs": [],
   "source": [
    "weights = tf.get_collection(tf.GraphKeys.TRAINABLE_VARIABLES, lm.name)\n",
    "grads = tf.gradients(loss, weights)\n",
    "grads = tf.clip_by_global_norm(grads, 100)[0]\n",
    "train_step = tf.train.AdamOptimizer(learning_rate=1e-4, beta2=0.98).apply_gradients(zip(grads,weights))"
   ]
  },
  {
   "cell_type": "code",
   "execution_count": 11,
   "metadata": {},
   "outputs": [],
   "source": [
    "sess.run(tf.global_variables_initializer())"
   ]
  },
  {
   "cell_type": "code",
   "execution_count": 12,
   "metadata": {},
   "outputs": [],
   "source": [
    "initialize_uninitialized_variables(sess)"
   ]
  },
  {
   "cell_type": "code",
   "execution_count": 13,
   "metadata": {},
   "outputs": [],
   "source": [
    "from IPython.display import clear_output\n",
    "import matplotlib.pyplot as plt\n",
    "%matplotlib inline\n",
    "from itertools import count\n",
    "from pandas import ewma\n",
    "from tqdm import tqdm\n",
    "from time import sleep\n",
    "epoch = 0\n",
    "loss_history = []"
   ]
  },
  {
   "cell_type": "code",
   "execution_count": 14,
   "metadata": {},
   "outputs": [],
   "source": [
    "def chunks(l, n):\n",
    "    \"\"\"Yield successive n-sized chunks from l.\"\"\"\n",
    "    for i in range(0, len(l), n):\n",
    "        yield l[i:i + n]\n",
    "        \n"
   ]
  },
  {
   "cell_type": "code",
   "execution_count": null,
   "metadata": {},
   "outputs": [
    {
     "data": {
      "image/png": "[encoded data removed]",
      "text/plain": [
       "<matplotlib.figure.Figure at 0x7f345909af98>"
      ]
     },
     "metadata": {},
     "output_type": "display_data"
    },
    {
     "name": "stderr",
     "output_type": "stream",
     "text": [
      " 34%|███▎      | 10479/31250 [11:01<21:50, 15.85it/s]"
     ]
    }
   ],
   "source": [
    "from random import shuffle\n",
    "batch_size = 32\n",
    "num_epochs = 2\n",
    "max_len = 200\n",
    "\n",
    "for epoch in range(num_epochs):\n",
    "    print(\"Beginning epoch\", epoch)\n",
    "    order = {line: len(line) * (1 + np.random.normal(0, 0.2)) for line in lines}\n",
    "    lines = sorted(lines, key = lambda line: order[line])\n",
    "    lines = np.array(lines)\n",
    "    batches = list(chunks(lines, batch_size))\n",
    "    shuffle(batches)\n",
    "\n",
    "    for batch in tqdm(batches):\n",
    "\n",
    "        # Note: we don't use voc.tokenize_many(batch, max_len=max_len)\n",
    "        # cuz it forces batch length to be that long and we often get away with much less\n",
    "        batch_ix = voc.tokenize_many(batch)[:, :max_len]\n",
    "\n",
    "        feed_dict = {inp: batch_ix}\n",
    "\n",
    "        loss_t = sess.run([train_step, loss], feed_dict)[1]\n",
    "        loss_history.append(np.mean(loss_t))\n",
    "\n",
    "\n",
    "        if (epoch+1) % 500 == 0:\n",
    "            w_variables = tf.get_collection(tf.GraphKeys.TRAINABLE_VARIABLES, scope=lm.name)\n",
    "            w_values = sess.run(w_variables)\n",
    "            weights_dict = {w.name: w_val for w, w_val in zip(w_variables,w_values)}\n",
    "            np.savez(\"../../pretrained_lm_lang1-%i.npz\"%epoch, **weights_dict)\n",
    "\n",
    "\n",
    "        if epoch % 10 == 0:\n",
    "            clear_output(True)\n",
    "            plt.figure(figsize=[8,8])\n",
    "            plt.title(\"batch loss\")\n",
    "            plt.plot(loss_history)\n",
    "            plt.plot(ewma(np.array(loss_history),span=50))\n",
    "            plt.ylim(0,200)\n",
    "            plt.grid()\n",
    "            plt.show()\n",
    "        epoch +=1\n"
   ]
  },
  {
   "cell_type": "code",
   "execution_count": null,
   "metadata": {},
   "outputs": [],
   "source": [
    "raise 1"
   ]
  },
  {
   "cell_type": "code",
   "execution_count": null,
   "metadata": {},
   "outputs": [],
   "source": [
    "def sample(max_len):\n",
    "    seq = np.array([[0, np.random.randint(3, len(voc))]])\n",
    "    logits = lm(inp, is_train=False, after_eos=True)\n",
    "    \n",
    "    for i in range(10):\n",
    "        feed_dict = {inp : seq}\n",
    "        #print(tf.nn.softmax(logits).eval(feed_dict)[0][-1])\n",
    "        el = np.random.choice(range(len(voc)), p =  tf.nn.softmax(logits * 10).eval(feed_dict)[0][-1])\n",
    "        #print(el)\n",
    "        seq = np.concatenate((seq, np.array([[el]])), 1)\n",
    "    return seq[0]"
   ]
  },
  {
   "cell_type": "code",
   "execution_count": null,
   "metadata": {},
   "outputs": [],
   "source": [
    "for i in range(20):\n",
    "    print(voc.detokenize(sample(15)))"
   ]
  },
  {
   "cell_type": "code",
   "execution_count": null,
   "metadata": {},
   "outputs": [],
   "source": [
    "w_variables = tf.get_collection(tf.GraphKeys.TRAINABLE_VARIABLES, scope=lm.name)\n",
    "w_values = sess.run(w_variables)\n",
    "weights_dict = {w.name: w_val for w, w_val in zip(w_variables,w_values)}\n",
    "np.savez(\"../pretrained/lm_default_params-final_1.npz\", **weights_dict)"
   ]
  },
  {
   "cell_type": "code",
   "execution_count": null,
   "metadata": {},
   "outputs": [],
   "source": []
  }
 ],
 "metadata": {
  "kernelspec": {
   "display_name": "Python 3",
   "language": "python",
   "name": "python3"
  },
  "language_info": {
   "codemirror_mode": {
    "name": "ipython",
    "version": 3
   },
   "file_extension": ".py",
   "mimetype": "text/x-python",
   "name": "python",
   "nbconvert_exporter": "python",
   "pygments_lexer": "ipython3",
   "version": "3.5.2"
  }
 },
 "nbformat": 4,
 "nbformat_minor": 2
}
