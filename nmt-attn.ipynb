{
 "cells": [
  {
   "cell_type": "code",
   "execution_count": 1,
   "metadata": {
    "collapsed": false
   },
   "outputs": [
    {
     "name": "stdout",
     "output_type": "stream",
     "text": [
      "env: LD_LIBRARY_PATH=/usr/local/cuda-8.0/lib64\n",
      "env: LIBRARY_PATH=/usr/local/cuda-8.0/lib64\n",
      "env: PATH=/usr/local/cuda-8.0/include:/usr/local/cuda-8.0/bin:/home/apanin/anaconda/bin:/opt/WinCC_OA/3.11/bin:/opt/pvss/pvss2_v3.8/bin:/home/apanin/anaconda/bin:/usr/local/bin:/usr/bin:/usr/local/sbin:/usr/sbin:/opt/puppetlabs/bin:/opt/fmc/bin:/group/online/bin:/group/online/scripts:/home/apanin/bin:/home/apanin/bin\n",
      "env: CUDA_VISIBLE_DEVICES=0\n",
      "env: MKL_THREADING_LAYER=GNU\n",
      "env: THEANO_FLAGS=device=cuda0,gpuarray.preallocate=0.99\n"
     ]
    }
   ],
   "source": [
    "import os, sys\n",
    "%env LD_LIBRARY_PATH=/usr/local/cuda-8.0/lib64\n",
    "%env LIBRARY_PATH=/usr/local/cuda-8.0/lib64\n",
    "%env PATH=/usr/local/cuda-8.0/include:/usr/local/cuda-8.0/bin:/home/apanin/anaconda/bin:/opt/WinCC_OA/3.11/bin:/opt/pvss/pvss2_v3.8/bin:/home/apanin/anaconda/bin:/usr/local/bin:/usr/bin:/usr/local/sbin:/usr/sbin:/opt/puppetlabs/bin:/opt/fmc/bin:/group/online/bin:/group/online/scripts:/home/apanin/bin:/home/apanin/bin\n",
    "sys.path.insert(0,\"/home/apanin/rit_my/\")\n",
    "%env CUDA_VISIBLE_DEVICES=0\n",
    "%env MKL_THREADING_LAYER=GNU\n",
    "%env THEANO_FLAGS=device=cuda0,gpuarray.preallocate=0.99\n"
   ]
  },
  {
   "cell_type": "code",
   "execution_count": 2,
   "metadata": {
    "collapsed": false
   },
   "outputs": [
    {
     "name": "stderr",
     "output_type": "stream",
     "text": [
      "Using cuDNN version 6021 on context None\n",
      "Preallocating 11596/12207 Mb (0.950000) on cuda0\n",
      "Mapped name None to device cuda0: GeForce GTX TITAN X (0000:02:00.0)\n"
     ]
    }
   ],
   "source": [
    "import theano\n",
    "import theano.tensor as T\n",
    "import lasagne\n",
    "import lasagne.layers as L"
   ]
  },
  {
   "cell_type": "markdown",
   "metadata": {},
   "source": [
    "## preprocess"
   ]
  },
  {
   "cell_type": "code",
   "execution_count": 3,
   "metadata": {
    "collapsed": false
   },
   "outputs": [
    {
     "name": "stdout",
     "output_type": "stream",
     "text": [
      "Tokenizer Version 1.1\n",
      "Language: en\n",
      "Number of threads: 1\n",
      "Tokenizer Version 1.1\n",
      "Language: de\n",
      "Number of threads: 1\n"
     ]
    }
   ],
   "source": [
    "!./preprocess.sh data/indomain_training/indomain.de-en.de preprocessed/ en de\n",
    "!./preprocess.sh data/indomain_training/indomain.de-en.en preprocessed/ de en"
   ]
  },
  {
   "cell_type": "code",
   "execution_count": 3,
   "metadata": {
    "collapsed": true
   },
   "outputs": [],
   "source": [
    "SRC_PATH = \"data/wmt/train.tok.bpe.32000.en\" \n",
    "DST_PATH = \"data/wmt/train.tok.bpe.32000.de\" "
   ]
  },
  {
   "cell_type": "code",
   "execution_count": 4,
   "metadata": {
    "collapsed": false
   },
   "outputs": [],
   "source": [
    "raw_src = []\n",
    "with open(SRC_PATH, 'r') as f:\n",
    "    raw_src = f.readlines()\n",
    "raw_dst = []\n",
    "with open(DST_PATH, 'r') as f:\n",
    "    raw_dst = f.readlines()"
   ]
  },
  {
   "cell_type": "code",
   "execution_count": 5,
   "metadata": {
    "collapsed": true
   },
   "outputs": [],
   "source": [
    "def fix_ends(sents):\n",
    "    for i in range(len(sents)):\n",
    "        sents[i] = sents[i][:-2]"
   ]
  },
  {
   "cell_type": "code",
   "execution_count": 6,
   "metadata": {
    "collapsed": true
   },
   "outputs": [],
   "source": [
    "fix_ends(raw_src)\n",
    "fix_ends(raw_dst)"
   ]
  },
  {
   "cell_type": "code",
   "execution_count": 7,
   "metadata": {
    "collapsed": true
   },
   "outputs": [],
   "source": [
    "class Vocab:\n",
    "    def __init__(self, sentences):\n",
    "        tokens = set()\n",
    "        for s in sentences:\n",
    "            tokens.update(s.split(' '))\n",
    "        self.tokens = [ \"__BOS__\",\"__EOS__\", \"__PAD__\"] + list(tokens)\n",
    "        self.EOS = 1\n",
    "        self.BOS = 0 # BOS should be zero to let the model generate starting with zero as an input\n",
    "        self.PAD = 2\n",
    "        self.len = len(self.tokens)\n",
    "        self.token2id = {token: i for i, token in enumerate(self.tokens)}\n",
    "    def tokenize(self, sentence):\n",
    "        if not sentence.endswith(\"__EOS__\"):\n",
    "            sentence += \" __EOS__\"\n",
    "        if not sentence.startswith(\"__BOS__\"):\n",
    "            sentence = \"__BOS__ \" + sentence\n",
    "        return [self.token2id[token] for token in sentence.split(' ')]\n",
    "    def detokenize(self, sentence):\n",
    "        return \" \".join([self.tokens[token] for token in sentence])\n",
    "    def tokenize_many(self, sentences):\n",
    "        return [self.tokenize(sent) for sent in sentences]\n",
    "    def detokenize_many(self, sentences):\n",
    "        return [self.detokenize(sent) for sent in sentences]"
   ]
  },
  {
   "cell_type": "code",
   "execution_count": 8,
   "metadata": {
    "collapsed": true
   },
   "outputs": [],
   "source": [
    "import pickle as pkl\n",
    "with open(\"vocabs.pkl\", 'rb') as f:\n",
    "    dst_voc = pkl.load(f)\n",
    "    src_voc = pkl.load(f)"
   ]
  },
  {
   "cell_type": "code",
   "execution_count": 8,
   "metadata": {
    "collapsed": false
   },
   "outputs": [],
   "source": [
    "src_voc = Vocab(raw_src)\n",
    "dst_voc = Vocab(raw_dst)"
   ]
  },
  {
   "cell_type": "code",
   "execution_count": 10,
   "metadata": {
    "collapsed": true
   },
   "outputs": [],
   "source": [
    "X = src_voc.tokenize_many(raw_src)\n",
    "Y = dst_voc.tokenize_many(raw_dst)"
   ]
  },
  {
   "cell_type": "code",
   "execution_count": 11,
   "metadata": {
    "collapsed": true
   },
   "outputs": [],
   "source": [
    "from sklearn.model_selection import train_test_split"
   ]
  },
  {
   "cell_type": "code",
   "execution_count": 12,
   "metadata": {
    "collapsed": true
   },
   "outputs": [],
   "source": [
    "X_train, X_test, Y_train, Y_text = train_test_split(X,Y, test_size = 0.05, random_state = 42)"
   ]
  },
  {
   "cell_type": "code",
   "execution_count": 13,
   "metadata": {
    "collapsed": true
   },
   "outputs": [],
   "source": [
    "MAX_LEN = 100"
   ]
  },
  {
   "cell_type": "code",
   "execution_count": 14,
   "metadata": {
    "collapsed": true
   },
   "outputs": [],
   "source": [
    "from batch_iterator import iterate_minibatches"
   ]
  },
  {
   "cell_type": "code",
   "execution_count": 15,
   "metadata": {
    "collapsed": true
   },
   "outputs": [],
   "source": [
    "import numpy as np"
   ]
  },
  {
   "cell_type": "code",
   "execution_count": 16,
   "metadata": {
    "collapsed": true
   },
   "outputs": [],
   "source": [
    "np.random.seed(42)"
   ]
  },
  {
   "cell_type": "code",
   "execution_count": 17,
   "metadata": {
    "collapsed": false
   },
   "outputs": [
    {
     "name": "stdout",
     "output_type": "stream",
     "text": [
      "env: KERAS_BACKEND=theano\n"
     ]
    },
    {
     "name": "stderr",
     "output_type": "stream",
     "text": [
      "Using Theano backend.\n"
     ]
    }
   ],
   "source": [
    "%env KERAS_BACKEND=theano\n",
    "from keras.preprocessing.sequence import pad_sequences"
   ]
  },
  {
   "cell_type": "code",
   "execution_count": 18,
   "metadata": {
    "collapsed": true
   },
   "outputs": [],
   "source": [
    "import matplotlib.pyplot as plt\n",
    "%matplotlib inline"
   ]
  },
  {
   "cell_type": "code",
   "execution_count": 19,
   "metadata": {
    "collapsed": false
   },
   "outputs": [
    {
     "data": {
      "image/png": "[encoded data removed]",
      "text/plain": [
       "<matplotlib.figure.Figure at 0x7f0927271198>"
      ]
     },
     "metadata": {},
     "output_type": "display_data"
    }
   ],
   "source": [
    "plt.hist(list(map(lambda x: len(x), X)), bins = 100,log=True);"
   ]
  },
  {
   "cell_type": "code",
   "execution_count": 20,
   "metadata": {
    "collapsed": true
   },
   "outputs": [],
   "source": [
    "input_sequence = T.matrix('token sequencea','int32')\n",
    "input_mask = T.neq(input_sequence, src_voc.PAD)\n",
    "\n",
    "target_values = T.matrix('actual next token','int32')\n",
    "target_mask = T.neq(target_values, dst_voc.PAD)"
   ]
  },
  {
   "cell_type": "code",
   "execution_count": 21,
   "metadata": {
    "collapsed": true
   },
   "outputs": [],
   "source": [
    "CODE_SIZE = 512"
   ]
  },
  {
   "cell_type": "code",
   "execution_count": 22,
   "metadata": {
    "collapsed": false
   },
   "outputs": [],
   "source": [
    "l_in = lasagne.layers.InputLayer(shape=(None, None),input_var=input_sequence)\n",
    "l_mask = lasagne.layers.InputLayer(shape=(None, None),input_var=input_mask)\n",
    "\n",
    "#encoder\n",
    "l_emb = L.EmbeddingLayer(l_in, src_voc.len, 128)\n",
    "\n",
    "l_rnn = L.LSTMLayer(l_emb, 256, nonlinearity=T.tanh, mask_input= l_mask)\n",
    "l_rnn = L.concat([l_emb,l_rnn], axis=-1)\n",
    "l_encoded = l_rnn = L.LSTMLayer(l_rnn, CODE_SIZE, nonlinearity=T.tanh, mask_input= l_mask)\n",
    "\n",
    "l_trans = L.InputLayer((None, None), input_var= target_values[:,:-1])\n",
    "l_trans_mask = L.InputLayer((None, None), input_var= target_mask[:,:-1])\n"
   ]
  },
  {
   "cell_type": "code",
   "execution_count": 23,
   "metadata": {
    "collapsed": true
   },
   "outputs": [],
   "source": [
    "from agentnet.agent.recurrence import Recurrence\n",
    "from agentnet.memory import AttentionLayer,LSTMCell "
   ]
  },
  {
   "cell_type": "code",
   "execution_count": 24,
   "metadata": {
    "collapsed": true
   },
   "outputs": [],
   "source": [
    "from agentnet.resolver import ProbabilisticResolver, GreedyResolver"
   ]
  },
  {
   "cell_type": "code",
   "execution_count": 25,
   "metadata": {
    "collapsed": true
   },
   "outputs": [],
   "source": [
    "class AutoLSTMCell:\n",
    "    def __init__(self, input_or_inputs, num_units = None, *args, name=None, **kwargs):\n",
    "        self.p_cell = L.InputLayer((None, num_units), \n",
    "                       name=\"previous cell state\" if name == None else name + \" previous cell state\")\n",
    "        self.p_out = L.InputLayer((None, num_units), \n",
    "                       name=\"previous out state\" if name == None else name + \" previous out state\")\n",
    "        self.cell, self.out = LSTMCell(self.p_cell, self.p_out, input_or_inputs, num_units, *args,name=name, **kwargs)\n",
    "    def get_automatic_updates(self):\n",
    "        return {self.cell: self.p_cell, self.out: self.p_out}"
   ]
  },
  {
   "cell_type": "code",
   "execution_count": 26,
   "metadata": {
    "collapsed": true
   },
   "outputs": [],
   "source": [
    "class TemperatureResolver(ProbabilisticResolver):\n",
    "    def __init__(self, incoming, tau, **kwargs):\n",
    "        self.tau = tau\n",
    "        super(TemperatureResolver, self).__init__(incoming,**kwargs)\n",
    "    def get_output_for(self, policy, **kwargs):\n",
    "        policy = policy ** (1/self.tau)\n",
    "        policy /= policy.sum()\n",
    "        return super(TemperatureResolver, self).get_output_for(policy, **kwargs) "
   ]
  },
  {
   "cell_type": "code",
   "execution_count": 27,
   "metadata": {
    "collapsed": false
   },
   "outputs": [],
   "source": [
    "class decoder_step:\n",
    "    #inputs\n",
    "    encoder = L.InputLayer((None, None ,CODE_SIZE), name='encoded sequence')\n",
    "    encoder_mask = L.InputLayer((None, None), name='encoded sequence')\n",
    "    \n",
    "    inp = L.InputLayer((None,),name='current character')\n",
    "    \n",
    "    l_target_emb = L.EmbeddingLayer(inp, dst_voc.len, 128)\n",
    "    \n",
    "    #recurrent part\n",
    "    \n",
    "    l_rnn1 = AutoLSTMCell(l_target_emb, 128, name=\"lstm1\")\n",
    "    \n",
    "    query = L.DenseLayer(l_rnn1.out, 128, nonlinearity=None)\n",
    "    attn = AttentionLayer(encoder, query, 128, mask_input= encoder_mask)['attn']\n",
    "    \n",
    "    l_rnn = L.concat([attn, l_rnn1.out, l_target_emb])\n",
    "    \n",
    "    l_rnn2 = AutoLSTMCell(l_rnn, 128, name=\"lstm1\")\n",
    "    \n",
    "    next_token_probas = L.DenseLayer(l_rnn2.out, dst_voc.len, nonlinearity=T.nnet.softmax)\n",
    "    \n",
    "    #pick next token from predicted probas\n",
    "    next_token = ProbabilisticResolver(next_token_probas)\n",
    "    \n",
    "    tau = T.scalar(\"sample temperature\", \"float32\")\n",
    "    \n",
    "    next_token_temperatured = TemperatureResolver(next_token_probas, tau)\n",
    "    next_token_greedy = GreedyResolver(next_token_probas)\n",
    "    \n",
    "    auto_updates = {**l_rnn1.get_automatic_updates(),\n",
    "                    **l_rnn2.get_automatic_updates()}"
   ]
  },
  {
   "cell_type": "code",
   "execution_count": 28,
   "metadata": {
    "collapsed": false,
    "scrolled": true
   },
   "outputs": [
    {
     "data": {
      "text/plain": [
       "37943"
      ]
     },
     "execution_count": 28,
     "metadata": {},
     "output_type": "execute_result"
    }
   ],
   "source": [
    "dst_voc.len"
   ]
  },
  {
   "cell_type": "code",
   "execution_count": 29,
   "metadata": {
    "collapsed": true
   },
   "outputs": [],
   "source": [
    "from collections import OrderedDict"
   ]
  },
  {
   "cell_type": "code",
   "execution_count": 30,
   "metadata": {
    "collapsed": false
   },
   "outputs": [],
   "source": [
    "\n",
    "training_loop = Recurrence(\n",
    "    state_variables=OrderedDict(decoder_step.auto_updates),\n",
    "    input_sequences=OrderedDict({decoder_step.inp:l_trans}), \n",
    "    tracked_outputs=[decoder_step.next_token_probas,],\n",
    "    input_nonsequences= OrderedDict({decoder_step.encoder: l_encoded, decoder_step.encoder_mask: l_mask} ),\n",
    "    mask_input=l_trans_mask,\n",
    "    unroll_scan=False,\n",
    ")"
   ]
  },
  {
   "cell_type": "code",
   "execution_count": 31,
   "metadata": {
    "collapsed": false
   },
   "outputs": [
    {
     "name": "stdout",
     "output_type": "stream",
     "text": [
      "[W, W_in_to_ingate, W_hid_to_ingate, b_ingate, W_in_to_forgetgate, W_hid_to_forgetgate, b_forgetgate, W_in_to_cell, W_hid_to_cell, b_cell, W_in_to_outgate, W_hid_to_outgate, b_outgate, W_cell_to_ingate, W_cell_to_forgetgate, W_cell_to_outgate, W_in_to_ingate, W_hid_to_ingate, b_ingate, W_in_to_forgetgate, W_hid_to_forgetgate, b_forgetgate, W_in_to_cell, W_hid_to_cell, b_cell, W_in_to_outgate, W_hid_to_outgate, b_outgate, W_cell_to_ingate, W_cell_to_forgetgate, W_cell_to_outgate, W, lstm1.b_to_ingate, lstm1.W_lstm1 previous out state_to_ingate, lstm1.W_ctrl1_to_ingate, lstm1.b_to_forgetgate, lstm1.W_lstm1 previous out state_to_forgetgate, lstm1.W_ctrl1_to_forgetgate, lstm1.b_to_cell, lstm1.W_lstm1 previous out state_to_cell, lstm1.W_ctrl1_to_cell, lstm1.b_to_outgate, lstm1.W_lstm1 previous out state_to_outgate, lstm1.W_ctrl1_to_outgate, lstm1.W_cell_to_ingate_peephole.scales, lstm1.W_cell_to_forgetgate_peephole.scales, lstm1.W_cell_to_outgate_peephole.scales, W, b, enc_to_hid, dec_to_hid, hid_to_logit, lstm1.b_to_ingate, lstm1.W_lstm1 previous out state_to_ingate, lstm1.W_ctrl1_to_ingate, lstm1.b_to_forgetgate, lstm1.W_lstm1 previous out state_to_forgetgate, lstm1.W_ctrl1_to_forgetgate, lstm1.b_to_cell, lstm1.W_lstm1 previous out state_to_cell, lstm1.W_ctrl1_to_cell, lstm1.b_to_outgate, lstm1.W_lstm1 previous out state_to_outgate, lstm1.W_ctrl1_to_outgate, lstm1.W_cell_to_ingate_peephole.scales, lstm1.W_cell_to_forgetgate_peephole.scales, lstm1.W_cell_to_outgate_peephole.scales, W, b]\n"
     ]
    }
   ],
   "source": [
    "# Model weights\n",
    "weights = lasagne.layers.get_all_params(training_loop,trainable=True)\n",
    "print (weights)"
   ]
  },
  {
   "cell_type": "code",
   "execution_count": 32,
   "metadata": {
    "collapsed": true
   },
   "outputs": [],
   "source": [
    "train_probas_flat = L.get_output(training_loop[decoder_step.next_token_probas]).reshape((-1,dst_voc.len))"
   ]
  },
  {
   "cell_type": "code",
   "execution_count": 33,
   "metadata": {
    "collapsed": true
   },
   "outputs": [],
   "source": [
    "loss = lasagne.objectives.categorical_crossentropy(train_probas_flat, target_values[:,1:].reshape((-1,)))\n",
    "loss = loss.reshape((-1,target_mask.shape[1]-1))\n",
    "loss = (loss * target_mask[:,1:]).sum(axis= 1).mean()\n",
    "updates = lasagne.updates.adam(loss, weights, learning_rate=1e-4)"
   ]
  },
  {
   "cell_type": "code",
   "execution_count": 34,
   "metadata": {
    "collapsed": false
   },
   "outputs": [],
   "source": [
    "loss = lasagne.objectives.categorical_crossentropy(train_probas_flat, target_values[:,1:].reshape((-1,)))\n",
    "loss = (loss * target_mask[:,1:].ravel()).sum() / target_mask.sum()\n",
    "updates = lasagne.updates.adam(loss, weights, learning_rate=1e-4)"
   ]
  },
  {
   "cell_type": "code",
   "execution_count": 35,
   "metadata": {
    "collapsed": false
   },
   "outputs": [
    {
     "name": "stderr",
     "output_type": "stream",
     "text": [
      "ERROR (theano.gof.opt): Optimization failure due to: local_reshape_dimshuffle\n",
      "ERROR (theano.gof.opt): node: Reshape{2}(InplaceDimShuffle{0,x}.0, HostFromGpu(gpuarray).0)\n",
      "ERROR (theano.gof.opt): TRACEBACK:\n",
      "ERROR (theano.gof.opt): Traceback (most recent call last):\n",
      "  File \"/home/apanin/anaconda/envs/py35/lib/python3.5/site-packages/theano/gof/opt.py\", line 2074, in process_node\n",
      "    remove=remove)\n",
      "  File \"/home/apanin/anaconda/envs/py35/lib/python3.5/site-packages/theano/gof/toolbox.py\", line 569, in replace_all_validate_remove\n",
      "    chk = fgraph.replace_all_validate(replacements, reason)\n",
      "  File \"/home/apanin/anaconda/envs/py35/lib/python3.5/site-packages/theano/gof/toolbox.py\", line 518, in replace_all_validate\n",
      "    fgraph.replace(r, new_r, reason=reason, verbose=False)\n",
      "  File \"/home/apanin/anaconda/envs/py35/lib/python3.5/site-packages/theano/gof/fg.py\", line 486, in replace\n",
      "    \". The type of the replacement must be the same.\", old, new)\n",
      "theano.gof.toolbox.BadOptimization: BadOptimization Error \n",
      "  Variable: id 139673226068320 Reshape{2}.0\n",
      "  Op Reshape{2}(CGemv{no_inplace}.0, HostFromGpu(gpuarray).0)\n",
      "  Value Type: <class 'NoneType'>\n",
      "  Old Value:  None\n",
      "  New Value:  None\n",
      "  Reason:  local_reshape_dimshuffle. The type of the replacement must be the same.\n",
      "  Old Graph:\n",
      "  Reshape{2} [id A] <TensorType(float32, col)> ''   \n",
      "   |InplaceDimShuffle{0,x} [id B] <TensorType(float32, col)> ''   \n",
      "   | |CGemv{no_inplace} [id C] <TensorType(float32, vector)> ''   \n",
      "   |   |AllocEmpty{dtype='float32'} [id D] <TensorType(float32, vector)> ''   \n",
      "   |   | |Shape_i{2} [id E] <TensorType(int64, scalar)> ''   \n",
      "   |   |   |<GpuArrayType<None>(float32, 3D)> [id F] <GpuArrayType<None>(float32, 3D)>\n",
      "   |   |TensorConstant{1.0} [id G] <TensorType(float32, scalar)>\n",
      "   |   |InplaceDimShuffle{1,0} [id H] <TensorType(float32, matrix)> ''   \n",
      "   |   | |Elemwise{tanh,no_inplace} [id I] <TensorType(float32, matrix)> ''   \n",
      "   |   |   |Reshape{2} [id J] <TensorType(float32, matrix)> ''   \n",
      "   |   |Reshape{1} [id K] <TensorType(float32, vector)> ''   \n",
      "   |   | |Rebroadcast{?,?,0} [id L] <TensorType(float32, 3D)> ''   \n",
      "   |   | | |IncSubtensor{Inc;::, ::, int64} [id M] <TensorType(float32, (False, False, True))> ''   \n",
      "   |   | |MakeVector{dtype='int64'} [id N] <TensorType(int64, vector)> ''   \n",
      "   |   |   |Elemwise{switch,no_inplace} [id O] <TensorType(int64, scalar)> ''   \n",
      "   |   |TensorConstant{0.0} [id P] <TensorType(float32, scalar)>\n",
      "   |HostFromGpu(gpuarray) [id Q] <TensorType(int64, vector)> ''   \n",
      "     |<GpuArrayType<None>(int64, vector)> [id R] <GpuArrayType<None>(int64, vector)>\n",
      "\n",
      "  New Graph:\n",
      "  Reshape{2} [id S] <TensorType(float32, matrix)> ''   \n",
      "   |CGemv{no_inplace} [id C] <TensorType(float32, vector)> ''   \n",
      "   |HostFromGpu(gpuarray) [id Q] <TensorType(int64, vector)> ''   \n",
      "\n",
      "\n",
      "Hint: relax the tolerance by setting tensor.cmp_sloppy=1\n",
      "  or even tensor.cmp_sloppy=2 for less-strict comparison\n",
      "\n",
      "\n",
      "ERROR (theano.gof.opt): Optimization failure due to: local_reshape_dimshuffle\n",
      "ERROR (theano.gof.opt): node: Reshape{2}(InplaceDimShuffle{0,x}.0, HostFromGpu(gpuarray).0)\n",
      "ERROR (theano.gof.opt): TRACEBACK:\n",
      "ERROR (theano.gof.opt): Traceback (most recent call last):\n",
      "  File \"/home/apanin/anaconda/envs/py35/lib/python3.5/site-packages/theano/gof/opt.py\", line 2074, in process_node\n",
      "    remove=remove)\n",
      "  File \"/home/apanin/anaconda/envs/py35/lib/python3.5/site-packages/theano/gof/toolbox.py\", line 569, in replace_all_validate_remove\n",
      "    chk = fgraph.replace_all_validate(replacements, reason)\n",
      "  File \"/home/apanin/anaconda/envs/py35/lib/python3.5/site-packages/theano/gof/toolbox.py\", line 518, in replace_all_validate\n",
      "    fgraph.replace(r, new_r, reason=reason, verbose=False)\n",
      "  File \"/home/apanin/anaconda/envs/py35/lib/python3.5/site-packages/theano/gof/fg.py\", line 486, in replace\n",
      "    \". The type of the replacement must be the same.\", old, new)\n",
      "theano.gof.toolbox.BadOptimization: BadOptimization Error \n",
      "  Variable: id 139673225884560 Reshape{2}.0\n",
      "  Op Reshape{2}(CGemv{no_inplace}.0, HostFromGpu(gpuarray).0)\n",
      "  Value Type: <class 'NoneType'>\n",
      "  Old Value:  None\n",
      "  New Value:  None\n",
      "  Reason:  local_reshape_dimshuffle. The type of the replacement must be the same.\n",
      "  Old Graph:\n",
      "  Reshape{2} [id A] <TensorType(float32, col)> ''   \n",
      "   |InplaceDimShuffle{0,x} [id B] <TensorType(float32, col)> ''   \n",
      "   | |CGemv{no_inplace} [id C] <TensorType(float32, vector)> ''   \n",
      "   |   |AllocEmpty{dtype='float32'} [id D] <TensorType(float32, vector)> ''   \n",
      "   |   | |Shape_i{2} [id E] <TensorType(int64, scalar)> ''   \n",
      "   |   |   |<GpuArrayType<None>(float32, 3D)> [id F] <GpuArrayType<None>(float32, 3D)>\n",
      "   |   |TensorConstant{1.0} [id G] <TensorType(float32, scalar)>\n",
      "   |   |InplaceDimShuffle{1,0} [id H] <TensorType(float32, matrix)> ''   \n",
      "   |   | |Elemwise{tanh,no_inplace} [id I] <TensorType(float32, matrix)> ''   \n",
      "   |   |   |Reshape{2} [id J] <TensorType(float32, matrix)> ''   \n",
      "   |   |Reshape{1} [id K] <TensorType(float32, vector)> ''   \n",
      "   |   | |Rebroadcast{?,?,0} [id L] <TensorType(float32, 3D)> ''   \n",
      "   |   | | |IncSubtensor{Inc;::, ::, int64} [id M] <TensorType(float32, (False, False, True))> ''   \n",
      "   |   | |MakeVector{dtype='int64'} [id N] <TensorType(int64, vector)> ''   \n",
      "   |   |   |Elemwise{switch,no_inplace} [id O] <TensorType(int64, scalar)> ''   \n",
      "   |   |TensorConstant{0.0} [id P] <TensorType(float32, scalar)>\n",
      "   |HostFromGpu(gpuarray) [id Q] <TensorType(int64, vector)> ''   \n",
      "     |<GpuArrayType<None>(int64, vector)> [id R] <GpuArrayType<None>(int64, vector)>\n",
      "\n",
      "  New Graph:\n",
      "  Reshape{2} [id S] <TensorType(float32, matrix)> ''   \n",
      "   |CGemv{no_inplace} [id C] <TensorType(float32, vector)> ''   \n",
      "   |HostFromGpu(gpuarray) [id Q] <TensorType(int64, vector)> ''   \n",
      "\n",
      "\n",
      "Hint: relax the tolerance by setting tensor.cmp_sloppy=1\n",
      "  or even tensor.cmp_sloppy=2 for less-strict comparison\n",
      "\n",
      "\n",
      "ERROR (theano.gof.opt): SeqOptimizer apply <theano.gpuarray.opt.GraphToGPU object at 0x7f083520a6d8>\n",
      "ERROR (theano.gof.opt): Traceback:\n",
      "ERROR (theano.gof.opt): Traceback (most recent call last):\n",
      "  File \"/home/apanin/anaconda/envs/py35/lib/python3.5/site-packages/theano/gof/opt.py\", line 251, in apply\n",
      "    sub_prof = optimizer.optimize(fgraph)\n",
      "  File \"/home/apanin/anaconda/envs/py35/lib/python3.5/site-packages/theano/gof/opt.py\", line 97, in optimize\n",
      "    ret = self.apply(fgraph, *args, **kwargs)\n",
      "  File \"/home/apanin/anaconda/envs/py35/lib/python3.5/site-packages/theano/gpuarray/opt.py\", line 430, in apply\n",
      "    newnode = node.clone_with_new_inputs([mapping.get(i) for i in node.inputs])\n",
      "  File \"/home/apanin/anaconda/envs/py35/lib/python3.5/site-packages/theano/gof/graph.py\", line 242, in clone_with_new_inputs\n",
      "    new_inputs[i] = curr.type.filter_variable(new)\n",
      "  File \"/home/apanin/anaconda/envs/py35/lib/python3.5/site-packages/theano/tensor/type.py\", line 234, in filter_variable\n",
      "    self=self))\n",
      "TypeError: Cannot convert Type TensorType(float32, matrix) (of Variable HostFromGpu(gpuarray).0) into Type TensorType(float32, col). You can try to manually convert HostFromGpu(gpuarray).0 into a TensorType(float32, col).\n",
      "\n",
      "ERROR (theano.gof.opt): Optimization failure due to: local_gpua_reshape\n",
      "ERROR (theano.gof.opt): node: Reshape{2}(InplaceDimShuffle{0,x}.0, HostFromGpu(gpuarray).0)\n",
      "ERROR (theano.gof.opt): TRACEBACK:\n",
      "ERROR (theano.gof.opt): Traceback (most recent call last):\n",
      "  File \"/home/apanin/anaconda/envs/py35/lib/python3.5/site-packages/theano/gof/opt.py\", line 2074, in process_node\n",
      "    remove=remove)\n",
      "  File \"/home/apanin/anaconda/envs/py35/lib/python3.5/site-packages/theano/gof/toolbox.py\", line 569, in replace_all_validate_remove\n",
      "    chk = fgraph.replace_all_validate(replacements, reason)\n",
      "  File \"/home/apanin/anaconda/envs/py35/lib/python3.5/site-packages/theano/gof/toolbox.py\", line 518, in replace_all_validate\n",
      "    fgraph.replace(r, new_r, reason=reason, verbose=False)\n",
      "  File \"/home/apanin/anaconda/envs/py35/lib/python3.5/site-packages/theano/gof/fg.py\", line 486, in replace\n",
      "    \". The type of the replacement must be the same.\", old, new)\n",
      "theano.gof.toolbox.BadOptimization: BadOptimization Error \n",
      "  Variable: id 139673225193008 HostFromGpu(gpuarray).0\n",
      "  Op HostFromGpu(gpuarray)(GpuReshape{2}.0)\n",
      "  Value Type: <class 'NoneType'>\n",
      "  Old Value:  None\n",
      "  New Value:  None\n",
      "  Reason:  local_gpua_reshape. The type of the replacement must be the same.\n",
      "  Old Graph:\n",
      "  Reshape{2} [id A] <TensorType(float32, col)> ''   \n",
      "   |InplaceDimShuffle{0,x} [id B] <TensorType(float32, col)> ''   \n",
      "   | |CGemv{no_inplace} [id C] <TensorType(float32, vector)> ''   \n",
      "   |   |AllocEmpty{dtype='float32'} [id D] <TensorType(float32, vector)> ''   \n",
      "   |   | |Shape_i{2} [id E] <TensorType(int64, scalar)> ''   \n",
      "   |   |   |<GpuArrayType<None>(float32, 3D)> [id F] <GpuArrayType<None>(float32, 3D)>\n",
      "   |   |TensorConstant{1.0} [id G] <TensorType(float32, scalar)>\n",
      "   |   |InplaceDimShuffle{1,0} [id H] <TensorType(float32, matrix)> ''   \n",
      "   |   | |Elemwise{tanh,no_inplace} [id I] <TensorType(float32, matrix)> ''   \n",
      "   |   |   |Reshape{2} [id J] <TensorType(float32, matrix)> ''   \n",
      "   |   |Reshape{1} [id K] <TensorType(float32, vector)> ''   \n",
      "   |   | |Rebroadcast{?,?,0} [id L] <TensorType(float32, 3D)> ''   \n",
      "   |   | | |IncSubtensor{Inc;::, ::, int64} [id M] <TensorType(float32, (False, False, True))> ''   \n",
      "   |   | |MakeVector{dtype='int64'} [id N] <TensorType(int64, vector)> ''   \n",
      "   |   |   |Elemwise{switch,no_inplace} [id O] <TensorType(int64, scalar)> ''   \n",
      "   |   |TensorConstant{0.0} [id P] <TensorType(float32, scalar)>\n",
      "   |HostFromGpu(gpuarray) [id Q] <TensorType(int64, vector)> ''   \n",
      "     |<GpuArrayType<None>(int64, vector)> [id R] <GpuArrayType<None>(int64, vector)>\n",
      "\n",
      "  New Graph:\n",
      "  HostFromGpu(gpuarray) [id S] <TensorType(float32, matrix)> ''   \n",
      "   |GpuReshape{2} [id T] <GpuArrayType<None>(float32, matrix)> ''   \n",
      "     |GpuFromHost<None> [id U] <GpuArrayType<None>(float32, col)> ''   \n",
      "     | |InplaceDimShuffle{0,x} [id B] <TensorType(float32, col)> ''   \n",
      "     |HostFromGpu(gpuarray) [id Q] <TensorType(int64, vector)> ''   \n",
      "\n",
      "\n",
      "Hint: relax the tolerance by setting tensor.cmp_sloppy=1\n",
      "  or even tensor.cmp_sloppy=2 for less-strict comparison\n",
      "\n",
      "\n",
      "ERROR (theano.gof.opt): Optimization failure due to: local_gpua_reshape\n",
      "ERROR (theano.gof.opt): node: Reshape{2}(InplaceDimShuffle{0,x}.0, HostFromGpu(gpuarray).0)\n",
      "ERROR (theano.gof.opt): TRACEBACK:\n",
      "ERROR (theano.gof.opt): Traceback (most recent call last):\n",
      "  File \"/home/apanin/anaconda/envs/py35/lib/python3.5/site-packages/theano/gof/opt.py\", line 2074, in process_node\n",
      "    remove=remove)\n",
      "  File \"/home/apanin/anaconda/envs/py35/lib/python3.5/site-packages/theano/gof/toolbox.py\", line 569, in replace_all_validate_remove\n",
      "    chk = fgraph.replace_all_validate(replacements, reason)\n",
      "  File \"/home/apanin/anaconda/envs/py35/lib/python3.5/site-packages/theano/gof/toolbox.py\", line 518, in replace_all_validate\n",
      "    fgraph.replace(r, new_r, reason=reason, verbose=False)\n",
      "  File \"/home/apanin/anaconda/envs/py35/lib/python3.5/site-packages/theano/gof/fg.py\", line 486, in replace\n",
      "    \". The type of the replacement must be the same.\", old, new)\n",
      "theano.gof.toolbox.BadOptimization: BadOptimization Error \n",
      "  Variable: id 139673223702512 HostFromGpu(gpuarray).0\n",
      "  Op HostFromGpu(gpuarray)(GpuReshape{2}.0)\n",
      "  Value Type: <class 'NoneType'>\n",
      "  Old Value:  None\n",
      "  New Value:  None\n",
      "  Reason:  local_gpua_reshape. The type of the replacement must be the same.\n",
      "  Old Graph:\n",
      "  Reshape{2} [id A] <TensorType(float32, col)> ''   \n",
      "   |InplaceDimShuffle{0,x} [id B] <TensorType(float32, col)> ''   \n",
      "   | |CGemv{no_inplace} [id C] <TensorType(float32, vector)> ''   \n",
      "   |   |AllocEmpty{dtype='float32'} [id D] <TensorType(float32, vector)> ''   \n",
      "   |   | |Shape_i{2} [id E] <TensorType(int64, scalar)> ''   \n",
      "   |   |   |<GpuArrayType<None>(float32, 3D)> [id F] <GpuArrayType<None>(float32, 3D)>\n",
      "   |   |TensorConstant{1.0} [id G] <TensorType(float32, scalar)>\n",
      "   |   |InplaceDimShuffle{1,0} [id H] <TensorType(float32, matrix)> ''   \n",
      "   |   | |Elemwise{tanh,no_inplace} [id I] <TensorType(float32, matrix)> ''   \n",
      "   |   |   |Reshape{2} [id J] <TensorType(float32, matrix)> ''   \n",
      "   |   |Reshape{1} [id K] <TensorType(float32, vector)> ''   \n",
      "   |   | |Rebroadcast{?,?,0} [id L] <TensorType(float32, 3D)> ''   \n",
      "   |   | | |IncSubtensor{Inc;::, ::, int64} [id M] <TensorType(float32, (False, False, True))> ''   \n",
      "   |   | |MakeVector{dtype='int64'} [id N] <TensorType(int64, vector)> ''   \n",
      "   |   |   |Elemwise{switch,no_inplace} [id O] <TensorType(int64, scalar)> ''   \n",
      "   |   |TensorConstant{0.0} [id P] <TensorType(float32, scalar)>\n",
      "   |HostFromGpu(gpuarray) [id Q] <TensorType(int64, vector)> ''   \n",
      "     |<GpuArrayType<None>(int64, vector)> [id R] <GpuArrayType<None>(int64, vector)>\n",
      "\n",
      "  New Graph:\n",
      "  HostFromGpu(gpuarray) [id S] <TensorType(float32, matrix)> ''   \n",
      "   |GpuReshape{2} [id T] <GpuArrayType<None>(float32, matrix)> ''   \n",
      "     |GpuFromHost<None> [id U] <GpuArrayType<None>(float32, col)> ''   \n",
      "     | |InplaceDimShuffle{0,x} [id B] <TensorType(float32, col)> ''   \n",
      "     |HostFromGpu(gpuarray) [id Q] <TensorType(int64, vector)> ''   \n",
      "\n",
      "\n",
      "Hint: relax the tolerance by setting tensor.cmp_sloppy=1\n",
      "  or even tensor.cmp_sloppy=2 for less-strict comparison\n",
      "\n",
      "\n",
      "ERROR (theano.gof.opt): Optimization failure due to: local_gpua_reshape\n",
      "ERROR (theano.gof.opt): node: Reshape{2}(InplaceDimShuffle{0,x}.0, HostFromGpu(gpuarray).0)\n",
      "ERROR (theano.gof.opt): TRACEBACK:\n",
      "ERROR (theano.gof.opt): Traceback (most recent call last):\n",
      "  File \"/home/apanin/anaconda/envs/py35/lib/python3.5/site-packages/theano/gof/opt.py\", line 2074, in process_node\n",
      "    remove=remove)\n",
      "  File \"/home/apanin/anaconda/envs/py35/lib/python3.5/site-packages/theano/gof/toolbox.py\", line 569, in replace_all_validate_remove\n",
      "    chk = fgraph.replace_all_validate(replacements, reason)\n",
      "  File \"/home/apanin/anaconda/envs/py35/lib/python3.5/site-packages/theano/gof/toolbox.py\", line 518, in replace_all_validate\n",
      "    fgraph.replace(r, new_r, reason=reason, verbose=False)\n",
      "  File \"/home/apanin/anaconda/envs/py35/lib/python3.5/site-packages/theano/gof/fg.py\", line 486, in replace\n",
      "    \". The type of the replacement must be the same.\", old, new)\n",
      "theano.gof.toolbox.BadOptimization: BadOptimization Error \n",
      "  Variable: id 139673223361872 HostFromGpu(gpuarray).0\n",
      "  Op HostFromGpu(gpuarray)(GpuReshape{2}.0)\n",
      "  Value Type: <class 'NoneType'>\n",
      "  Old Value:  None\n",
      "  New Value:  None\n",
      "  Reason:  local_gpua_reshape. The type of the replacement must be the same.\n",
      "  Old Graph:\n",
      "  Reshape{2} [id A] <TensorType(float32, col)> ''   \n",
      "   |InplaceDimShuffle{0,x} [id B] <TensorType(float32, col)> ''   \n",
      "   | |CGemv{no_inplace} [id C] <TensorType(float32, vector)> ''   \n",
      "   |   |AllocEmpty{dtype='float32'} [id D] <TensorType(float32, vector)> ''   \n",
      "   |   | |Shape_i{2} [id E] <TensorType(int64, scalar)> ''   \n",
      "   |   |   |<GpuArrayType<None>(float32, 3D)> [id F] <GpuArrayType<None>(float32, 3D)>\n",
      "   |   |TensorConstant{1.0} [id G] <TensorType(float32, scalar)>\n",
      "   |   |InplaceDimShuffle{1,0} [id H] <TensorType(float32, matrix)> ''   \n",
      "   |   | |Elemwise{tanh,no_inplace} [id I] <TensorType(float32, matrix)> ''   \n",
      "   |   |   |HostFromGpu(gpuarray) [id J] <TensorType(float32, matrix)> ''   \n",
      "   |   |Reshape{1} [id K] <TensorType(float32, vector)> ''   \n",
      "   |   | |Rebroadcast{?,?,0} [id L] <TensorType(float32, 3D)> ''   \n",
      "   |   | | |IncSubtensor{Inc;::, ::, int64} [id M] <TensorType(float32, (False, False, True))> ''   \n",
      "   |   | |MakeVector{dtype='int64'} [id N] <TensorType(int64, vector)> ''   \n",
      "   |   |   |Elemwise{switch,no_inplace} [id O] <TensorType(int64, scalar)> ''   \n",
      "   |   |TensorConstant{0.0} [id P] <TensorType(float32, scalar)>\n",
      "   |HostFromGpu(gpuarray) [id Q] <TensorType(int64, vector)> ''   \n",
      "     |<GpuArrayType<None>(int64, vector)> [id R] <GpuArrayType<None>(int64, vector)>\n",
      "\n",
      "  New Graph:\n",
      "  HostFromGpu(gpuarray) [id S] <TensorType(float32, matrix)> ''   \n",
      "   |GpuReshape{2} [id T] <GpuArrayType<None>(float32, matrix)> ''   \n",
      "     |GpuFromHost<None> [id U] <GpuArrayType<None>(float32, col)> ''   \n",
      "     | |InplaceDimShuffle{0,x} [id B] <TensorType(float32, col)> ''   \n",
      "     |HostFromGpu(gpuarray) [id Q] <TensorType(int64, vector)> ''   \n",
      "\n",
      "\n",
      "Hint: relax the tolerance by setting tensor.cmp_sloppy=1\n",
      "  or even tensor.cmp_sloppy=2 for less-strict comparison\n",
      "\n",
      "\n",
      "ERROR (theano.gof.opt): Optimization failure due to: local_gpua_reshape\n",
      "ERROR (theano.gof.opt): node: Reshape{2}(InplaceDimShuffle{0,x}.0, HostFromGpu(gpuarray).0)\n",
      "ERROR (theano.gof.opt): TRACEBACK:\n",
      "ERROR (theano.gof.opt): Traceback (most recent call last):\n",
      "  File \"/home/apanin/anaconda/envs/py35/lib/python3.5/site-packages/theano/gof/opt.py\", line 2074, in process_node\n",
      "    remove=remove)\n",
      "  File \"/home/apanin/anaconda/envs/py35/lib/python3.5/site-packages/theano/gof/toolbox.py\", line 569, in replace_all_validate_remove\n",
      "    chk = fgraph.replace_all_validate(replacements, reason)\n",
      "  File \"/home/apanin/anaconda/envs/py35/lib/python3.5/site-packages/theano/gof/toolbox.py\", line 518, in replace_all_validate\n",
      "    fgraph.replace(r, new_r, reason=reason, verbose=False)\n",
      "  File \"/home/apanin/anaconda/envs/py35/lib/python3.5/site-packages/theano/gof/fg.py\", line 486, in replace\n",
      "    \". The type of the replacement must be the same.\", old, new)\n",
      "theano.gof.toolbox.BadOptimization: BadOptimization Error \n",
      "  Variable: id 139673223409224 HostFromGpu(gpuarray).0\n",
      "  Op HostFromGpu(gpuarray)(GpuReshape{2}.0)\n",
      "  Value Type: <class 'NoneType'>\n",
      "  Old Value:  None\n",
      "  New Value:  None\n",
      "  Reason:  local_gpua_reshape. The type of the replacement must be the same.\n",
      "  Old Graph:\n",
      "  Reshape{2} [id A] <TensorType(float32, col)> ''   \n",
      "   |InplaceDimShuffle{0,x} [id B] <TensorType(float32, col)> ''   \n",
      "   | |CGemv{no_inplace} [id C] <TensorType(float32, vector)> ''   \n",
      "   |   |AllocEmpty{dtype='float32'} [id D] <TensorType(float32, vector)> ''   \n",
      "   |   | |Shape_i{2} [id E] <TensorType(int64, scalar)> ''   \n",
      "   |   |   |<GpuArrayType<None>(float32, 3D)> [id F] <GpuArrayType<None>(float32, 3D)>\n",
      "   |   |TensorConstant{1.0} [id G] <TensorType(float32, scalar)>\n",
      "   |   |InplaceDimShuffle{1,0} [id H] <TensorType(float32, matrix)> ''   \n",
      "   |   | |HostFromGpu(gpuarray) [id I] <TensorType(float32, matrix)> ''   \n",
      "   |   |   |GpuElemwise{tanh,no_inplace} [id J] <GpuArrayType<None>(float32, matrix)> ''   \n",
      "   |   |Reshape{1} [id K] <TensorType(float32, vector)> ''   \n",
      "   |   | |Rebroadcast{?,?,0} [id L] <TensorType(float32, 3D)> ''   \n",
      "   |   | | |IncSubtensor{Inc;::, ::, int64} [id M] <TensorType(float32, (False, False, True))> ''   \n",
      "   |   | |MakeVector{dtype='int64'} [id N] <TensorType(int64, vector)> ''   \n",
      "   |   |   |Elemwise{switch,no_inplace} [id O] <TensorType(int64, scalar)> ''   \n",
      "   |   |TensorConstant{0.0} [id P] <TensorType(float32, scalar)>\n",
      "   |HostFromGpu(gpuarray) [id Q] <TensorType(int64, vector)> ''   \n",
      "     |<GpuArrayType<None>(int64, vector)> [id R] <GpuArrayType<None>(int64, vector)>\n",
      "\n",
      "  New Graph:\n",
      "  HostFromGpu(gpuarray) [id S] <TensorType(float32, matrix)> ''   \n",
      "   |GpuReshape{2} [id T] <GpuArrayType<None>(float32, matrix)> ''   \n",
      "     |GpuFromHost<None> [id U] <GpuArrayType<None>(float32, col)> ''   \n",
      "     | |InplaceDimShuffle{0,x} [id B] <TensorType(float32, col)> ''   \n",
      "     |HostFromGpu(gpuarray) [id Q] <TensorType(int64, vector)> ''   \n",
      "\n",
      "\n",
      "Hint: relax the tolerance by setting tensor.cmp_sloppy=1\n",
      "  or even tensor.cmp_sloppy=2 for less-strict comparison\n",
      "\n",
      "\n",
      "ERROR (theano.gof.opt): Optimization failure due to: local_gpua_reshape\n",
      "ERROR (theano.gof.opt): node: Reshape{2}(InplaceDimShuffle{0,x}.0, HostFromGpu(gpuarray).0)\n",
      "ERROR (theano.gof.opt): TRACEBACK:\n",
      "ERROR (theano.gof.opt): Traceback (most recent call last):\n",
      "  File \"/home/apanin/anaconda/envs/py35/lib/python3.5/site-packages/theano/gof/opt.py\", line 2074, in process_node\n",
      "    remove=remove)\n",
      "  File \"/home/apanin/anaconda/envs/py35/lib/python3.5/site-packages/theano/gof/toolbox.py\", line 569, in replace_all_validate_remove\n",
      "    chk = fgraph.replace_all_validate(replacements, reason)\n",
      "  File \"/home/apanin/anaconda/envs/py35/lib/python3.5/site-packages/theano/gof/toolbox.py\", line 518, in replace_all_validate\n",
      "    fgraph.replace(r, new_r, reason=reason, verbose=False)\n",
      "  File \"/home/apanin/anaconda/envs/py35/lib/python3.5/site-packages/theano/gof/fg.py\", line 486, in replace\n",
      "    \". The type of the replacement must be the same.\", old, new)\n",
      "theano.gof.toolbox.BadOptimization: BadOptimization Error \n",
      "  Variable: id 139673223422752 HostFromGpu(gpuarray).0\n",
      "  Op HostFromGpu(gpuarray)(GpuReshape{2}.0)\n",
      "  Value Type: <class 'NoneType'>\n",
      "  Old Value:  None\n",
      "  New Value:  None\n",
      "  Reason:  local_gpua_reshape. The type of the replacement must be the same.\n",
      "  Old Graph:\n",
      "  Reshape{2} [id A] <TensorType(float32, col)> ''   \n",
      "   |InplaceDimShuffle{0,x} [id B] <TensorType(float32, col)> ''   \n",
      "   | |CGemv{no_inplace} [id C] <TensorType(float32, vector)> ''   \n",
      "   |   |AllocEmpty{dtype='float32'} [id D] <TensorType(float32, vector)> ''   \n",
      "   |   | |Shape_i{2} [id E] <TensorType(int64, scalar)> ''   \n",
      "   |   |   |<GpuArrayType<None>(float32, 3D)> [id F] <GpuArrayType<None>(float32, 3D)>\n",
      "   |   |TensorConstant{1.0} [id G] <TensorType(float32, scalar)>\n",
      "   |   |HostFromGpu(gpuarray) [id H] <TensorType(float32, matrix)> ''   \n",
      "   |   | |InplaceGpuDimShuffle{1,0} [id I] <GpuArrayType<None>(float32, matrix)> ''   \n",
      "   |   |   |GpuElemwise{tanh,no_inplace} [id J] <GpuArrayType<None>(float32, matrix)> ''   \n",
      "   |   |Reshape{1} [id K] <TensorType(float32, vector)> ''   \n",
      "   |   | |Rebroadcast{?,?,0} [id L] <TensorType(float32, 3D)> ''   \n",
      "   |   | | |IncSubtensor{Inc;::, ::, int64} [id M] <TensorType(float32, (False, False, True))> ''   \n",
      "   |   | |MakeVector{dtype='int64'} [id N] <TensorType(int64, vector)> ''   \n",
      "   |   |   |Elemwise{switch,no_inplace} [id O] <TensorType(int64, scalar)> ''   \n",
      "   |   |TensorConstant{0.0} [id P] <TensorType(float32, scalar)>\n",
      "   |HostFromGpu(gpuarray) [id Q] <TensorType(int64, vector)> ''   \n",
      "     |<GpuArrayType<None>(int64, vector)> [id R] <GpuArrayType<None>(int64, vector)>\n",
      "\n",
      "  New Graph:\n",
      "  HostFromGpu(gpuarray) [id S] <TensorType(float32, matrix)> ''   \n",
      "   |GpuReshape{2} [id T] <GpuArrayType<None>(float32, matrix)> ''   \n",
      "     |GpuFromHost<None> [id U] <GpuArrayType<None>(float32, col)> ''   \n",
      "     | |InplaceDimShuffle{0,x} [id B] <TensorType(float32, col)> ''   \n",
      "     |HostFromGpu(gpuarray) [id Q] <TensorType(int64, vector)> ''   \n",
      "\n",
      "\n",
      "Hint: relax the tolerance by setting tensor.cmp_sloppy=1\n",
      "  or even tensor.cmp_sloppy=2 for less-strict comparison\n",
      "\n",
      "\n",
      "ERROR (theano.gof.opt): Optimization failure due to: local_gpua_reshape\n",
      "ERROR (theano.gof.opt): node: Reshape{2}(InplaceDimShuffle{0,x}.0, HostFromGpu(gpuarray).0)\n",
      "ERROR (theano.gof.opt): TRACEBACK:\n",
      "ERROR (theano.gof.opt): Traceback (most recent call last):\n",
      "  File \"/home/apanin/anaconda/envs/py35/lib/python3.5/site-packages/theano/gof/opt.py\", line 2074, in process_node\n",
      "    remove=remove)\n",
      "  File \"/home/apanin/anaconda/envs/py35/lib/python3.5/site-packages/theano/gof/toolbox.py\", line 569, in replace_all_validate_remove\n",
      "    chk = fgraph.replace_all_validate(replacements, reason)\n",
      "  File \"/home/apanin/anaconda/envs/py35/lib/python3.5/site-packages/theano/gof/toolbox.py\", line 518, in replace_all_validate\n",
      "    fgraph.replace(r, new_r, reason=reason, verbose=False)\n",
      "  File \"/home/apanin/anaconda/envs/py35/lib/python3.5/site-packages/theano/gof/fg.py\", line 486, in replace\n",
      "    \". The type of the replacement must be the same.\", old, new)\n",
      "theano.gof.toolbox.BadOptimization: BadOptimization Error \n",
      "  Variable: id 139673223408272 HostFromGpu(gpuarray).0\n",
      "  Op HostFromGpu(gpuarray)(GpuReshape{2}.0)\n",
      "  Value Type: <class 'NoneType'>\n",
      "  Old Value:  None\n",
      "  New Value:  None\n",
      "  Reason:  local_gpua_reshape. The type of the replacement must be the same.\n",
      "  Old Graph:\n",
      "  Reshape{2} [id A] <TensorType(float32, col)> ''   \n",
      "   |InplaceDimShuffle{0,x} [id B] <TensorType(float32, col)> ''   \n",
      "   | |HostFromGpu(gpuarray) [id C] <TensorType(float32, vector)> ''   \n",
      "   |   |GpuGemv{inplace=False} [id D] <GpuArrayType<None>(float32, vector)> ''   \n",
      "   |     |GpuFromHost<None> [id E] <GpuArrayType<None>(float32, vector)> ''   \n",
      "   |     | |HostFromGpu(gpuarray) [id F] <TensorType(float32, vector)> ''   \n",
      "   |     |TensorConstant{1.0} [id G] <TensorType(float32, scalar)>\n",
      "   |     |InplaceGpuDimShuffle{1,0} [id H] <GpuArrayType<None>(float32, matrix)> ''   \n",
      "   |     | |GpuElemwise{tanh,no_inplace} [id I] <GpuArrayType<None>(float32, matrix)> ''   \n",
      "   |     |GpuFromHost<None> [id J] <GpuArrayType<None>(float32, vector)> ''   \n",
      "   |     | |HostFromGpu(gpuarray) [id K] <TensorType(float32, vector)> ''   \n",
      "   |     |TensorConstant{0.0} [id L] <TensorType(float32, scalar)>\n",
      "   |HostFromGpu(gpuarray) [id M] <TensorType(int64, vector)> ''   \n",
      "     |<GpuArrayType<None>(int64, vector)> [id N] <GpuArrayType<None>(int64, vector)>\n",
      "\n",
      "  New Graph:\n",
      "  HostFromGpu(gpuarray) [id O] <TensorType(float32, matrix)> ''   \n",
      "   |GpuReshape{2} [id P] <GpuArrayType<None>(float32, matrix)> ''   \n",
      "     |GpuFromHost<None> [id Q] <GpuArrayType<None>(float32, col)> ''   \n",
      "     | |InplaceDimShuffle{0,x} [id B] <TensorType(float32, col)> ''   \n",
      "     |HostFromGpu(gpuarray) [id M] <TensorType(int64, vector)> ''   \n",
      "\n",
      "\n",
      "Hint: relax the tolerance by setting tensor.cmp_sloppy=1\n",
      "  or even tensor.cmp_sloppy=2 for less-strict comparison\n",
      "\n",
      "\n",
      "ERROR (theano.gof.opt): Optimization failure due to: local_gpua_reshape\n",
      "ERROR (theano.gof.opt): node: Reshape{2}(HostFromGpu(gpuarray).0, HostFromGpu(gpuarray).0)\n",
      "ERROR (theano.gof.opt): TRACEBACK:\n",
      "ERROR (theano.gof.opt): Traceback (most recent call last):\n",
      "  File \"/home/apanin/anaconda/envs/py35/lib/python3.5/site-packages/theano/gof/opt.py\", line 2074, in process_node\n",
      "    remove=remove)\n",
      "  File \"/home/apanin/anaconda/envs/py35/lib/python3.5/site-packages/theano/gof/toolbox.py\", line 569, in replace_all_validate_remove\n",
      "    chk = fgraph.replace_all_validate(replacements, reason)\n",
      "  File \"/home/apanin/anaconda/envs/py35/lib/python3.5/site-packages/theano/gof/toolbox.py\", line 518, in replace_all_validate\n",
      "    fgraph.replace(r, new_r, reason=reason, verbose=False)\n",
      "  File \"/home/apanin/anaconda/envs/py35/lib/python3.5/site-packages/theano/gof/fg.py\", line 486, in replace\n",
      "    \". The type of the replacement must be the same.\", old, new)\n",
      "theano.gof.toolbox.BadOptimization: BadOptimization Error \n",
      "  Variable: id 139673223532952 HostFromGpu(gpuarray).0\n",
      "  Op HostFromGpu(gpuarray)(GpuReshape{2}.0)\n",
      "  Value Type: <class 'NoneType'>\n",
      "  Old Value:  None\n",
      "  New Value:  None\n",
      "  Reason:  local_gpua_reshape. The type of the replacement must be the same.\n",
      "  Old Graph:\n",
      "  Reshape{2} [id A] <TensorType(float32, col)> ''   \n",
      "   |HostFromGpu(gpuarray) [id B] <TensorType(float32, col)> ''   \n",
      "   | |InplaceGpuDimShuffle{0,x} [id C] <GpuArrayType<None>(float32, col)> ''   \n",
      "   |   |GpuGemv{inplace=False} [id D] <GpuArrayType<None>(float32, vector)> ''   \n",
      "   |     |GpuFromHost<None> [id E] <GpuArrayType<None>(float32, vector)> ''   \n",
      "   |     | |HostFromGpu(gpuarray) [id F] <TensorType(float32, vector)> ''   \n",
      "   |     |TensorConstant{1.0} [id G] <TensorType(float32, scalar)>\n",
      "   |     |InplaceGpuDimShuffle{1,0} [id H] <GpuArrayType<None>(float32, matrix)> ''   \n",
      "   |     | |GpuElemwise{tanh,no_inplace} [id I] <GpuArrayType<None>(float32, matrix)> ''   \n",
      "   |     |GpuFromHost<None> [id J] <GpuArrayType<None>(float32, vector)> ''   \n",
      "   |     | |HostFromGpu(gpuarray) [id K] <TensorType(float32, vector)> ''   \n",
      "   |     |TensorConstant{0.0} [id L] <TensorType(float32, scalar)>\n",
      "   |HostFromGpu(gpuarray) [id M] <TensorType(int64, vector)> ''   \n",
      "     |<GpuArrayType<None>(int64, vector)> [id N] <GpuArrayType<None>(int64, vector)>\n",
      "\n",
      "  New Graph:\n",
      "  HostFromGpu(gpuarray) [id O] <TensorType(float32, matrix)> ''   \n",
      "   |GpuReshape{2} [id P] <GpuArrayType<None>(float32, matrix)> ''   \n",
      "     |InplaceGpuDimShuffle{0,x} [id C] <GpuArrayType<None>(float32, col)> ''   \n",
      "     |HostFromGpu(gpuarray) [id M] <TensorType(int64, vector)> ''   \n",
      "\n",
      "\n",
      "Hint: relax the tolerance by setting tensor.cmp_sloppy=1\n",
      "  or even tensor.cmp_sloppy=2 for less-strict comparison\n",
      "\n",
      "\n",
      "ERROR (theano.gof.opt): Optimization failure due to: local_gpua_reshape\n",
      "ERROR (theano.gof.opt): node: Reshape{2}(HostFromGpu(gpuarray).0, HostFromGpu(gpuarray).0)\n",
      "ERROR (theano.gof.opt): TRACEBACK:\n",
      "ERROR (theano.gof.opt): Traceback (most recent call last):\n",
      "  File \"/home/apanin/anaconda/envs/py35/lib/python3.5/site-packages/theano/gof/opt.py\", line 2074, in process_node\n",
      "    remove=remove)\n",
      "  File \"/home/apanin/anaconda/envs/py35/lib/python3.5/site-packages/theano/gof/toolbox.py\", line 569, in replace_all_validate_remove\n",
      "    chk = fgraph.replace_all_validate(replacements, reason)\n",
      "  File \"/home/apanin/anaconda/envs/py35/lib/python3.5/site-packages/theano/gof/toolbox.py\", line 518, in replace_all_validate\n",
      "    fgraph.replace(r, new_r, reason=reason, verbose=False)\n",
      "  File \"/home/apanin/anaconda/envs/py35/lib/python3.5/site-packages/theano/gof/fg.py\", line 486, in replace\n",
      "    \". The type of the replacement must be the same.\", old, new)\n",
      "theano.gof.toolbox.BadOptimization: BadOptimization Error \n",
      "  Variable: id 139673223798456 HostFromGpu(gpuarray).0\n",
      "  Op HostFromGpu(gpuarray)(GpuReshape{2}.0)\n",
      "  Value Type: <class 'NoneType'>\n",
      "  Old Value:  None\n",
      "  New Value:  None\n",
      "  Reason:  local_gpua_reshape. The type of the replacement must be the same.\n",
      "  Old Graph:\n",
      "  Reshape{2} [id A] <TensorType(float32, col)> ''   \n",
      "   |HostFromGpu(gpuarray) [id B] <TensorType(float32, col)> ''   \n",
      "   | |InplaceGpuDimShuffle{0,x} [id C] <GpuArrayType<None>(float32, col)> ''   \n",
      "   |   |GpuGemv{inplace=False} [id D] <GpuArrayType<None>(float32, vector)> ''   \n",
      "   |     |GpuFromHost<None> [id E] <GpuArrayType<None>(float32, vector)> ''   \n",
      "   |     | |HostFromGpu(gpuarray) [id F] <TensorType(float32, vector)> ''   \n",
      "   |     |TensorConstant{1.0} [id G] <TensorType(float32, scalar)>\n",
      "   |     |InplaceGpuDimShuffle{1,0} [id H] <GpuArrayType<None>(float32, matrix)> ''   \n",
      "   |     | |GpuElemwise{tanh,no_inplace} [id I] <GpuArrayType<None>(float32, matrix)> ''   \n",
      "   |     |GpuFromHost<None> [id J] <GpuArrayType<None>(float32, vector)> ''   \n",
      "   |     | |HostFromGpu(gpuarray) [id K] <TensorType(float32, vector)> ''   \n",
      "   |     |TensorConstant{0.0} [id L] <TensorType(float32, scalar)>\n",
      "   |HostFromGpu(gpuarray) [id M] <TensorType(int64, vector)> ''   \n",
      "     |<GpuArrayType<None>(int64, vector)> [id N] <GpuArrayType<None>(int64, vector)>\n",
      "\n",
      "  New Graph:\n",
      "  HostFromGpu(gpuarray) [id O] <TensorType(float32, matrix)> ''   \n",
      "   |GpuReshape{2} [id P] <GpuArrayType<None>(float32, matrix)> ''   \n",
      "     |InplaceGpuDimShuffle{0,x} [id C] <GpuArrayType<None>(float32, col)> ''   \n",
      "     |HostFromGpu(gpuarray) [id M] <TensorType(int64, vector)> ''   \n",
      "\n",
      "\n",
      "Hint: relax the tolerance by setting tensor.cmp_sloppy=1\n",
      "  or even tensor.cmp_sloppy=2 for less-strict comparison\n",
      "\n",
      "\n"
     ]
    }
   ],
   "source": [
    "#training\n",
    "train = theano.function([input_sequence, target_values], loss\n",
    "                        , updates=updates+training_loop.get_automatic_updates(), allow_input_downcast=True)\n"
   ]
  },
  {
   "cell_type": "code",
   "execution_count": 36,
   "metadata": {
    "collapsed": false
   },
   "outputs": [],
   "source": [
    "n_steps = T.scalar(dtype='int32')\n",
    "feedback_loop = Recurrence(\n",
    "    state_variables=OrderedDict({**decoder_step.auto_updates,\n",
    "                     decoder_step.next_token:decoder_step.inp}),\n",
    "    tracked_outputs=[decoder_step.next_token_probas, decoder_step.next_token],\n",
    "    input_nonsequences= OrderedDict({decoder_step.encoder: l_encoded, decoder_step.encoder_mask: l_mask} ),\n",
    "    batch_size=input_sequence.shape[0],\n",
    "    n_steps=n_steps,\n",
    "    unroll_scan=False,\n",
    ")"
   ]
  },
  {
   "cell_type": "code",
   "execution_count": 37,
   "metadata": {
    "collapsed": false
   },
   "outputs": [],
   "source": [
    "generated_tokens = L.get_output(feedback_loop[decoder_step.next_token])\n",
    "\n",
    "generate_sample = theano.function([input_sequence ,n_steps],generated_tokens,\n",
    "                                  updates=feedback_loop.get_automatic_updates())"
   ]
  },
  {
   "cell_type": "code",
   "execution_count": 38,
   "metadata": {
    "collapsed": true
   },
   "outputs": [],
   "source": [
    "feedback_loop_greedy = Recurrence(\n",
    "    state_variables=OrderedDict({**decoder_step.auto_updates,\n",
    "                     decoder_step.next_token_greedy:decoder_step.inp}),\n",
    "    tracked_outputs=[decoder_step.next_token_probas, decoder_step.next_token_greedy],\n",
    "    input_nonsequences= OrderedDict({decoder_step.encoder: l_encoded, decoder_step.encoder_mask: l_mask} ),\n",
    "    batch_size=input_sequence.shape[0],\n",
    "    n_steps=n_steps,\n",
    "    unroll_scan=False,\n",
    ")"
   ]
  },
  {
   "cell_type": "code",
   "execution_count": 39,
   "metadata": {
    "collapsed": true
   },
   "outputs": [],
   "source": [
    "generated_tokens_greedy = L.get_output(feedback_loop_greedy[decoder_step.next_token_greedy])\n",
    "\n",
    "generate_sample_greedy = theano.function([input_sequence ,n_steps],generated_tokens_greedy,\n",
    "                                  updates=feedback_loop_greedy.get_automatic_updates())"
   ]
  },
  {
   "cell_type": "code",
   "execution_count": 40,
   "metadata": {
    "collapsed": true
   },
   "outputs": [],
   "source": [
    "feedback_loop_temp = Recurrence(\n",
    "    state_variables=OrderedDict({**decoder_step.auto_updates,\n",
    "                     decoder_step.next_token_temperatured:decoder_step.inp}),\n",
    "    tracked_outputs=[decoder_step.next_token_probas, decoder_step.next_token_temperatured],\n",
    "    input_nonsequences= OrderedDict({decoder_step.encoder: l_encoded, decoder_step.encoder_mask: l_mask} ),\n",
    "    batch_size=input_sequence.shape[0],\n",
    "    n_steps=n_steps,\n",
    "    unroll_scan=False,\n",
    ")"
   ]
  },
  {
   "cell_type": "code",
   "execution_count": 41,
   "metadata": {
    "collapsed": false
   },
   "outputs": [],
   "source": [
    "generated_tokens_temp = L.get_output(feedback_loop_temp[decoder_step.next_token_temperatured])\n",
    "\n",
    "generate_sample_temp = theano.function([input_sequence ,n_steps, decoder_step.tau],generated_tokens_temp,\n",
    "                                  updates=feedback_loop_temp.get_automatic_updates())"
   ]
  },
  {
   "cell_type": "code",
   "execution_count": 42,
   "metadata": {
    "collapsed": true
   },
   "outputs": [],
   "source": [
    "def translate(src, N=MAX_LEN,t=1,n_snippets=1, greedy=False):\n",
    "    src = [src_voc.tokenize(src)]\n",
    "    \n",
    "    snippets = []\n",
    "    for _ in range(n_snippets):\n",
    "        sample_ix = generate_sample_greedy(src, N)[0] if greedy else generate_sample_temp(src, N, t)[0]\n",
    "        random_snippet = dst_voc.detokenize(sample_ix)\n",
    "        if random_snippet.find(\"__EOS__\") > 0:\n",
    "            random_snippet = random_snippet[:random_snippet.find(\"__EOS__\")+1]\n",
    "        snippets.append(random_snippet)\n",
    "        \n",
    "    print(\"----\\n %s \\n----\" % '; '.join(snippets).replace(\"@@ \", ''))"
   ]
  },
  {
   "cell_type": "code",
   "execution_count": 49,
   "metadata": {
    "collapsed": false
   },
   "outputs": [
    {
     "name": "stdout",
     "output_type": "stream",
     "text": [
      "I should now like to comment on the issue itself \n",
      "----\n",
      " Ich möchte auch auf der Frage der Frage  _ \n",
      "----\n"
     ]
    }
   ],
   "source": [
    "print(raw_src[100])\n",
    "translate(raw_src[100], t = 0.1)"
   ]
  },
  {
   "cell_type": "code",
   "execution_count": 44,
   "metadata": {
    "collapsed": true
   },
   "outputs": [],
   "source": [
    "weights_dict = {str(i): weight for i, weight in enumerate(weights)}"
   ]
  },
  {
   "cell_type": "code",
   "execution_count": 45,
   "metadata": {
    "collapsed": true
   },
   "outputs": [],
   "source": [
    "with np.load(\"weights.npz\") as f:\n",
    "    for key in weights_dict:\n",
    "        weights_dict[key].set_value(f[key])"
   ]
  },
  {
   "cell_type": "code",
   "execution_count": 50,
   "metadata": {
    "collapsed": true
   },
   "outputs": [],
   "source": [
    "from tqdm import tqdm"
   ]
  },
  {
   "cell_type": "code",
   "execution_count": 51,
   "metadata": {
    "collapsed": true
   },
   "outputs": [],
   "source": [
    "from IPython.display import clear_output"
   ]
  },
  {
   "cell_type": "code",
   "execution_count": 52,
   "metadata": {
    "collapsed": true
   },
   "outputs": [],
   "source": [
    "cost = [];"
   ]
  },
  {
   "cell_type": "code",
   "execution_count": 53,
   "metadata": {
    "collapsed": true
   },
   "outputs": [],
   "source": [
    "from time import sleep"
   ]
  },
  {
   "cell_type": "code",
   "execution_count": 54,
   "metadata": {
    "collapsed": false
   },
   "outputs": [],
   "source": [
    "from tqdm import tqdm"
   ]
  },
  {
   "cell_type": "code",
   "execution_count": null,
   "metadata": {
    "collapsed": false,
    "scrolled": true
   },
   "outputs": [
    {
     "name": "stderr",
     "output_type": "stream",
     "text": [
      "4.43726015091:   0%|          | 1/86679.92 [00:19<457:29:52, 19.00s/it]"
     ]
    },
    {
     "name": "stdout",
     "output_type": "stream",
     "text": [
      "Sent:\n",
      "It does this with suppliers web@@ mails in co@@ .@@ uk or com@@ .@@ fr \n",
      "Real translation\n",
      "Dies funktioniert es mit den Web@@ mail Anbieter in com@@ .@@ fr co@@ .@@ uk oder \n",
      "translated\n",
      "----\n",
      " Sie haben ein und der Web-.-...info  _; Dieser von Ihrer persönlichen Daten in der Suche nach der Online-Website - und für Sie  _ \n",
      "----\n",
      "Epoch 0 average loss = 4.422812223434448\n"
     ]
    },
    {
     "data": {
      "image/png": "[encoded data removed]",
      "text/plain": [
       "<matplotlib.figure.Figure at 0x7f084f3f5e10>"
      ]
     },
     "metadata": {},
     "output_type": "display_data"
    },
    {
     "name": "stderr",
     "output_type": "stream",
     "text": [
      "4.52462807655:   0%|          | 320/86679.92 [10:23<46:43:23,  1.95s/it]"
     ]
    }
   ],
   "source": [
    "n_epochs = 100\n",
    "batch_size = 50\n",
    "view_window = 500\n",
    "\n",
    "for epoch in range(n_epochs):\n",
    "    tq = tqdm(iterate_minibatches(X_train,Y_train, batchsize=batch_size, shuffle= True),\n",
    "              total= len(X_train) / batch_size)\n",
    "    for x, y in tq:\n",
    "        padded_x = pad_sequences(x, value= src_voc.PAD, maxlen=MAX_LEN, padding=\"post\")\n",
    "        padded_y = pad_sequences(y, value= dst_voc.PAD, maxlen=MAX_LEN, padding=\"post\")\n",
    "        try:\n",
    "            cost += [train(padded_x[:,:MAX_LEN], padded_y[:,:MAX_LEN])]#!!! fix\n",
    "            if len(cost) % 10 == 1:\n",
    "                tq.set_description(str(np.mean(cost[-50:])))\n",
    "            if len(cost) % view_window == 2:\n",
    "                translating_ind = np.random.randint(len(raw_src))\n",
    "\n",
    "                print(\"Sent:\")\n",
    "                print(raw_src[translating_ind])\n",
    "                print(\"Real translation\")\n",
    "                print(raw_dst[translating_ind])\n",
    "                print(\"translated\")\n",
    "                translate(raw_src[translating_ind],n_snippets=2, t=0.5)\n",
    "\n",
    "                print(\"Epoch {} average loss = {}\".format(epoch, np.mean(cost[-view_window:])))\n",
    "                plt.plot(cost[-view_window:])\n",
    "                plt.show()\n",
    "        except KeyboardInterrupt:\n",
    "            tq.close()\n",
    "            raise KeyboardInterrupt\n",
    "        except Exception as e:\n",
    "            sleep(1)\n",
    "            print(e)\n",
    "            print(max(list(map(len, x))))\n",
    "            print(max(list(map(len, y))))\n",
    "            #raise e"
   ]
  },
  {
   "cell_type": "code",
   "execution_count": 253,
   "metadata": {
    "collapsed": true
   },
   "outputs": [],
   "source": [
    "weights_dict = {str(i): weight for i, weight in enumerate(weights)}"
   ]
  },
  {
   "cell_type": "code",
   "execution_count": 291,
   "metadata": {
    "collapsed": false
   },
   "outputs": [],
   "source": [
    "#np.savez(\"weights.npz\", **{key: weights_dict[key].get_value() for key in weights_dict})"
   ]
  },
  {
   "cell_type": "code",
   "execution_count": 256,
   "metadata": {
    "collapsed": false
   },
   "outputs": [],
   "source": [
    "with np.load(\"weights.npz\") as f:\n",
    "    for key in weights_dict:\n",
    "        weights_dict[key].set_value(f[key])"
   ]
  },
  {
   "cell_type": "code",
   "execution_count": 281,
   "metadata": {
    "collapsed": false
   },
   "outputs": [],
   "source": [
    "v = Vocab(raw_dst)\n",
    "v1 = Vocab(raw_src)\n",
    "\n",
    "v.tokens = dst_voc.tokens\n",
    "v1.tokens = src_voc.tokens\n"
   ]
  },
  {
   "cell_type": "code",
   "execution_count": 282,
   "metadata": {
    "collapsed": false
   },
   "outputs": [],
   "source": [
    "\"\"\"import pickle as pkl\n",
    "with open(\"vocabs.pkl\", 'wb') as f:\n",
    "    pkl.dump(v,f)\n",
    "    pkl.dump(v1,f)\"\"\""
   ]
  },
  {
   "cell_type": "code",
   "execution_count": 287,
   "metadata": {
    "collapsed": false
   },
   "outputs": [
    {
     "data": {
      "image/png": "[encoded data removed]",
      "text/plain": [
       "<matplotlib.figure.Figure at 0x7fb4347fb9b0>"
      ]
     },
     "metadata": {},
     "output_type": "display_data"
    }
   ],
   "source": [
    "plt.plot(cost[:]);"
   ]
  },
  {
   "cell_type": "code",
   "execution_count": 221,
   "metadata": {
    "collapsed": true
   },
   "outputs": [],
   "source": [
    "translating_ind = np.random.randint(len(raw_src))"
   ]
  },
  {
   "cell_type": "code",
   "execution_count": 272,
   "metadata": {
    "collapsed": false,
    "scrolled": true
   },
   "outputs": [
    {
     "name": "stdout",
     "output_type": "stream",
     "text": [
      "This clas@@ h is not inevitable , and we don &apos;t want it \n",
      "Bitte sehen Sie sich unser neues Video an und unterzeichnen Sie die folgende Peti@@ tion . Wenn sich die politischen Führer Ende März treffen , wird ihnen unsere Botschaft auf eine Art und Weise zu@@ gestellt werden , die sie nicht ignorieren können ..\n",
      "----\n",
      " Das ist nicht nur , und wir sind nicht nur nicht zu tun  _ \n",
      "----\n"
     ]
    }
   ],
   "source": [
    "print(raw_src[translating_ind])\n",
    "print(raw_dst[translating_ind])\n",
    "translate(raw_src[translating_ind],n_snippets=1, t=0.1, greedy=False)"
   ]
  },
  {
   "cell_type": "code",
   "execution_count": 202,
   "metadata": {
    "collapsed": false
   },
   "outputs": [
    {
     "data": {
      "text/plain": [
       "array([    1, 26074,   190,     0,     2,     2,     2,     2,     2,\n",
       "           2,     2,     2,     2,     2,     2,     2,     2,     2,\n",
       "           2,     2,     2,     2,     2,     2,     2,     2,     2,\n",
       "           2,     2,     2,     2,     2,     2,     2,     2,     2,\n",
       "           2,     2,     2,     2,     2,     2,     2,     2,     2,\n",
       "           2,     2,     2,     2,     2,     2,     2,     2,     2,\n",
       "           2,     2,     2,     2,     2,     2,     2,     2,     2,\n",
       "           2,     2,     2,     2,     2,     2,     2,     2,     2,\n",
       "           2,     2,     2,     2,     2,     2,     2,     2,     2,\n",
       "           2,     2,     2,     2,     2,     2,     2,     2,     2,\n",
       "           2,     2,     2,     2,     2,     2,     2,     2,     2,     2], dtype=int32)"
      ]
     },
     "execution_count": 202,
     "metadata": {},
     "output_type": "execute_result"
    }
   ],
   "source": [
    "padded_x[1]"
   ]
  }
 ],
 "metadata": {
  "kernelspec": {
   "display_name": "Python 3",
   "language": "python",
   "name": "python3"
  },
  "language_info": {
   "codemirror_mode": {
    "name": "ipython",
    "version": 3
   },
   "file_extension": ".py",
   "mimetype": "text/x-python",
   "name": "python",
   "nbconvert_exporter": "python",
   "pygments_lexer": "ipython3",
   "version": "3.5.4"
  }
 },
 "nbformat": 4,
 "nbformat_minor": 0
}
