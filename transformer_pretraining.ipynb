{
 "cells": [
  {
   "cell_type": "code",
   "execution_count": 1,
   "metadata": {},
   "outputs": [
    {
     "name": "stdout",
     "output_type": "stream",
     "text": [
      "env: CUDA_VISIBLE_DEVICES=0\n"
     ]
    }
   ],
   "source": [
    "%load_ext autoreload\n",
    "%autoreload 2\n",
    "%env CUDA_VISIBLE_DEVICES=0\n",
    "import sys; sys.path.append('.')"
   ]
  },
  {
   "cell_type": "code",
   "execution_count": 2,
   "metadata": {},
   "outputs": [
    {
     "data": {
      "text/plain": [
       "5453204"
      ]
     },
     "execution_count": 2,
     "metadata": {},
     "output_type": "execute_result"
    }
   ],
   "source": [
    "#TMP - rm when format gets fixed\n",
    "_='\\n'.join(filter(len, open(\"./data/bpe_parallel2.txt\").read().split('\\n')))\n",
    "open(\"./data/bpe_parallel2.txt\", 'w').write(_)"
   ]
  },
  {
   "cell_type": "code",
   "execution_count": 3,
   "metadata": {
    "collapsed": true
   },
   "outputs": [],
   "source": [
    "import numpy as np\n",
    "from vocab import Vocab\n",
    "inp_voc = Vocab.from_file(\"./data/1.voc\")\n",
    "out_voc = Vocab.from_file(\"./data/2.voc\")"
   ]
  },
  {
   "cell_type": "code",
   "execution_count": 4,
   "metadata": {},
   "outputs": [
    {
     "name": "stderr",
     "output_type": "stream",
     "text": [
      "/home/user32878/anaconda3/lib/python3.6/importlib/_bootstrap.py:219: RuntimeWarning: compiletime version 3.5 of module 'tensorflow.python.framework.fast_tensor_util' does not match runtime version 3.6\n",
      "  return f(*args, **kwds)\n"
     ]
    }
   ],
   "source": [
    "import tensorflow as tf\n",
    "import models.transformer as tr\n",
    "from lib.tensor_utils import infer_length, infer_mask\n",
    "\n",
    "tf.reset_default_graph()\n",
    "config = tf.ConfigProto()\n",
    "config.gpu_options.allow_growth=True\n",
    "config.gpu_options.per_process_gpu_memory_fraction=0.333\n",
    "\n",
    "sess = tf.InteractiveSession(config=config)\n",
    "sess.run(tf.global_variables_initializer())\n",
    "\n",
    "mini_hp = {\n",
    "        'hid_size': 256,\n",
    "        'ff_size': 1024,\n",
    "        'num_heads': 4,\n",
    "        'num_layers': 2,\n",
    "    \n",
    "        'rescale_emb': True,\n",
    "        'relu_dropout': 0.,\n",
    "        'res_dropout': 0.,\n",
    "        'attn_dropout': 0.,\n",
    "        'inp_emb_bias': True,\n",
    "        'res_steps': 'nlda',\n",
    "        'normalize_out': True,\n",
    "        'force_bos': True,\n",
    "}\n",
    "\n",
    "model = tr.Model('mod',inp_voc,out_voc,**mini_hp)"
   ]
  },
  {
   "cell_type": "code",
   "execution_count": 5,
   "metadata": {
    "collapsed": true
   },
   "outputs": [],
   "source": [
    "from prefetch_generator import background\n",
    "from itertools import islice, chain\n",
    "from tqdm import tqdm\n",
    "class train:\n",
    "    #TODO use batch_iterator or merge with it\n",
    "    #TODO port length-aware batch iterator\n",
    "    @background(max_prefetch=100)\n",
    "    def iterate_lines(batch_size=16, batches_per_epoch=None, skip_lines=0,\n",
    "                      src_path = \"./data/bpe_parallel1.txt\",\n",
    "                      dst_path = \"./data/bpe_parallel2.txt\",\n",
    "                      ):\n",
    "        while True:\n",
    "            with open(src_path) as f_src, open(dst_path) as f_dst:\n",
    "                \n",
    "                num_lines = batches_per_epoch * batch_size if batches_per_epoch is not None else None\n",
    "                \n",
    "                f_src = islice(f_src, skip_lines, num_lines)\n",
    "                f_dst = islice(f_dst, skip_lines, num_lines)\n",
    "\n",
    "                batch = []\n",
    "                for src_line, dst_line in zip(f_src, f_dst):\n",
    "                    if len(src_line) ==0 or len(dst_line)==0: continue\n",
    "                    \n",
    "                    batch.append([src_line[:-1], dst_line[:-1]])\n",
    "                    if len(batch) >= batch_size:\n",
    "                        yield (batch)\n",
    "                        batch = []\n",
    "                \n",
    "                if batches_per_epoch is not None:\n",
    "                    raise StopIteration()        \n",
    "    \n",
    "class dev:\n",
    "    dev_src = \"./data/bpe_parallel1.txt\"\n",
    "    dev_dst = \"./data/bpe_parallel2.txt\"\n",
    "\n",
    "    inp_lines = np.array(open(dev_src).read()[:-1].split('\\n'))\n",
    "    out_lines = np.array(open(dev_dst).read()[:-1].split('\\n'))"
   ]
  },
  {
   "cell_type": "code",
   "execution_count": 6,
   "metadata": {
    "collapsed": true
   },
   "outputs": [],
   "source": [
    "from bleu import compute_bleu"
   ]
  },
  {
   "cell_type": "code",
   "execution_count": 7,
   "metadata": {
    "collapsed": true
   },
   "outputs": [],
   "source": [
    "_dummy = np.arange(5,30, dtype='int32').reshape([5,5])\n",
    "inp = tf.placeholder_with_default(_dummy, [None,None])\n",
    "out = tf.placeholder_with_default(_dummy, [None,None])"
   ]
  },
  {
   "cell_type": "code",
   "execution_count": 8,
   "metadata": {},
   "outputs": [],
   "source": [
    "logits = model.symbolic_score(inp, out, is_train=True)\n",
    "# logits are already alligned with out"
   ]
  },
  {
   "cell_type": "code",
   "execution_count": 9,
   "metadata": {},
   "outputs": [],
   "source": [
    "from lib.tensor_utils import infer_mask, initialize_uninitialized_variables\n",
    "\n",
    "nll = tf.nn.sparse_softmax_cross_entropy_with_logits(logits=logits, labels=out)\n",
    "\n",
    "loss = nll * infer_mask(out, out_voc.eos, dtype=tf.float32)\n",
    "\n",
    "loss = tf.reduce_sum(loss, axis=1)\n",
    "loss = tf.reduce_mean(loss)"
   ]
  },
  {
   "cell_type": "code",
   "execution_count": 10,
   "metadata": {
    "collapsed": true
   },
   "outputs": [],
   "source": [
    "weights = tf.get_collection(tf.GraphKeys.TRAINABLE_VARIABLES, model.name)\n",
    "grads = tf.gradients(loss, weights)\n",
    "grads = tf.clip_by_global_norm(grads, 100)[0]\n",
    "train_step = tf.train.AdamOptimizer(learning_rate=1e-4).apply_gradients(zip(grads,weights))"
   ]
  },
  {
   "cell_type": "code",
   "execution_count": 11,
   "metadata": {
    "collapsed": true
   },
   "outputs": [],
   "source": [
    "initialize_uninitialized_variables(sess)"
   ]
  },
  {
   "cell_type": "code",
   "execution_count": 12,
   "metadata": {},
   "outputs": [],
   "source": [
    "sess.run(tf.global_variables_initializer())"
   ]
  },
  {
   "cell_type": "code",
   "execution_count": 13,
   "metadata": {
    "collapsed": true
   },
   "outputs": [],
   "source": [
    "from IPython.display import clear_output\n",
    "import matplotlib.pyplot as plt\n",
    "%matplotlib inline\n",
    "from itertools import count\n",
    "from pandas import ewma\n",
    "from tqdm import tqdm\n",
    "from time import sleep\n",
    "epoch = 0\n",
    "loss_history = []"
   ]
  },
  {
   "cell_type": "code",
   "execution_count": null,
   "metadata": {},
   "outputs": [
    {
     "data": {
      "image/png": "[encoded data removed]",
      "text/plain": [
       "<matplotlib.figure.Figure at 0x7fcd15623550>"
      ]
     },
     "metadata": {},
     "output_type": "display_data"
    },
    {
     "name": "stderr",
     "output_type": "stream",
     "text": [
      "\r",
      "490it [11:20,  1.39s/it]"
     ]
    }
   ],
   "source": [
    "batch_size = 32\n",
    "for i, batch in enumerate(tqdm(train.iterate_lines(batch_size, batches_per_epoch=None))):\n",
    "    batch_src, batch_dst = zip(*batch)\n",
    "    batch_src_ix = inp_voc.tokenize_many(batch_src)\n",
    "    batch_dst_ix = out_voc.tokenize_many(batch_dst)\n",
    "    \n",
    "    feed_dict = {inp: batch_src_ix, out: batch_dst_ix}\n",
    "    \n",
    "    loss_t = sess.run([train_step, loss], feed_dict)[1]\n",
    "    loss_history.append(np.mean(loss_t))\n",
    "    \n",
    "        \n",
    "    if (epoch+1) % 500 == 0:\n",
    "        #test_bleu_history.append([epoch,compute_bleu(model, dev.inp_lines[::5], dev.out_lines[::5])[0]])\n",
    "        \n",
    "        \n",
    "        w_variables = tf.get_collection(tf.GraphKeys.TRAINABLE_VARIABLES, scope=\"mod/\")\n",
    "        w_values = sess.run(w_variables)\n",
    "        weights_dict = {w.name: w_val for w, w_val in zip(w_variables,w_values)}\n",
    "        np.savez(\"./model-%i.npz\"%epoch, **weights_dict)\n",
    "        \n",
    "    \n",
    "    if epoch % 10 == 0:\n",
    "        clear_output(True)\n",
    "        plt.figure(figsize=[8,8])\n",
    "        plt.title(\"batch loss\")\n",
    "        plt.plot(loss_history)\n",
    "        plt.plot(ewma(np.array(loss_history),span=50))\n",
    "        plt.grid()\n",
    "        plt.show()\n",
    "    epoch +=1\n",
    "        "
   ]
  },
  {
   "cell_type": "code",
   "execution_count": 17,
   "metadata": {},
   "outputs": [
    {
     "name": "stdout",
     "output_type": "stream",
     "text": [
      "/home/user32878/yozhedir/babelSolution/lib/sliced_argmax.so\n"
     ]
    }
   ],
   "source": [
    "trans = model.symbolic_translate(inp)"
   ]
  },
  {
   "cell_type": "code",
   "execution_count": 18,
   "metadata": {},
   "outputs": [
    {
     "data": {
      "text/plain": [
       "array([[   0,    1,    1,    1,    1,    1,    1,    1,    1,    1,    1],\n",
       "       [   0, 7857, 7857, 7857, 7857, 7857, 7857,   88,    1,    1,    1],\n",
       "       [   0,    1,    1,    1,    1,    1,    1,    1,    1,    1,    1],\n",
       "       [   0,    1,    1,    1,    1,    1,    1,    1,    1,    1,    1],\n",
       "       [   0, 7857, 7857, 7857,   88,    1,    1,    1,    1,    1,    1],\n",
       "       [   0, 7857,   88,    1,    1,    1,    1,    1,    1,    1,    1],\n",
       "       [   0,    1,    1,    1,    1,    1,    1,    1,    1,    1,    1],\n",
       "       [   0, 7857, 7857, 7857,   88,    1,    1,    1,    1,    1,    1],\n",
       "       [   0, 7857,   88,    1,    1,    1,    1,    1,    1,    1,    1],\n",
       "       [   0, 7857, 7857, 7857, 7857, 7857, 7857, 7857, 7857,   88,    1],\n",
       "       [   0,    1,    1,    1,    1,    1,    1,    1,    1,    1,    1],\n",
       "       [   0, 7857, 7857, 7857, 7857, 7857, 7857, 7857,   88,    1,    1],\n",
       "       [   0,   88,    1,    1,    1,    1,    1,    1,    1,    1,    1],\n",
       "       [   0, 7857, 7857,   88,    1,    1,    1,    1,    1,    1,    1],\n",
       "       [   0, 7857,   88,    1,    1,    1,    1,    1,    1,    1,    1],\n",
       "       [   0,   88,    1,    1,    1,    1,    1,    1,    1,    1,    1],\n",
       "       [   0, 7857, 7857,   88,    1,    1,    1,    1,    1,    1,    1],\n",
       "       [   0,   88,    1,    1,    1,    1,    1,    1,    1,    1,    1],\n",
       "       [   0,    1,    1,    1,    1,    1,    1,    1,    1,    1,    1],\n",
       "       [   0, 7857, 7857,   88,    1,    1,    1,    1,    1,    1,    1],\n",
       "       [   0,    1,    1,    1,    1,    1,    1,    1,    1,    1,    1],\n",
       "       [   0,    1,    1,    1,    1,    1,    1,    1,    1,    1,    1],\n",
       "       [   0,    1,    1,    1,    1,    1,    1,    1,    1,    1,    1],\n",
       "       [   0, 7857,   88,    1,    1,    1,    1,    1,    1,    1,    1],\n",
       "       [   0, 7857, 7857, 7857,   88,    1,    1,    1,    1,    1,    1],\n",
       "       [   0,    1,    1,    1,    1,    1,    1,    1,    1,    1,    1],\n",
       "       [   0, 7857, 7857, 7857, 7857,   88,    1,    1,    1,    1,    1],\n",
       "       [   0,   88,    1,    1,    1,    1,    1,    1,    1,    1,    1],\n",
       "       [   0,    1,    1,    1,    1,    1,    1,    1,    1,    1,    1],\n",
       "       [   0,   88,    1,    1,    1,    1,    1,    1,    1,    1,    1],\n",
       "       [   0, 7857, 7857, 7857, 7857,   88,    1,    1,    1,    1,    1],\n",
       "       [   0,    1,    1,    1,    1,    1,    1,    1,    1,    1,    1]], dtype=int32)"
      ]
     },
     "execution_count": 18,
     "metadata": {},
     "output_type": "execute_result"
    }
   ],
   "source": [
    "sess.run(trans.best_out, feed_dict)"
   ]
  },
  {
   "cell_type": "code",
   "execution_count": 19,
   "metadata": {},
   "outputs": [
    {
     "data": {
      "text/plain": [
       "array([ -5.95697737, -43.7395134 ,  -5.94093609,  -5.9647274 ,\n",
       "       -27.44266129, -16.44791412,  -5.94379568, -27.45367813,\n",
       "       -16.45034218, -54.71476746,  -5.999722  , -49.22361755,\n",
       "       -10.9288559 , -21.96670914, -16.45472336, -10.9454174 ,\n",
       "       -21.98524094, -10.95733166,  -5.98115635, -21.99586868,\n",
       "        -5.96494532,  -5.95996809,  -5.98214865, -16.45394516,\n",
       "       -27.45812988,  -6.00365782, -32.90970993, -10.93470764,\n",
       "        -5.97571087, -10.88978004, -32.87838745,  -5.99495602], dtype=float32)"
      ]
     },
     "execution_count": 19,
     "metadata": {},
     "output_type": "execute_result"
    }
   ],
   "source": [
    "sess.run(trans.best_scores, feed_dict)"
   ]
  },
  {
   "cell_type": "code",
   "execution_count": 20,
   "metadata": {},
   "outputs": [],
   "source": [
    "logp_trans = model.symbolic_score(inp, trans.best_out)\n",
    "\n",
    "scores = tf.nn.sparse_softmax_cross_entropy_with_logits(labels=trans.best_out, logits=logp_trans)\n",
    "scores = scores * infer_mask(trans.best_out, out_voc.eos, dtype=tf.float32)\n"
   ]
  },
  {
   "cell_type": "code",
   "execution_count": 23,
   "metadata": {},
   "outputs": [
    {
     "data": {
      "text/plain": [
       "array([[  5.95697737,   5.95697737,   5.95697737,   5.95697737,\n",
       "          5.95697737,   5.95697737,   5.95697737,   5.95697737,\n",
       "          5.95697737,   5.95697737],\n",
       "       [  5.58799505,  11.11808586,  16.60442734,  22.08396339,\n",
       "         27.56002045,  33.03188324,  38.49030304,  43.73950958,\n",
       "         43.73950958,  43.73950958],\n",
       "       [  5.94093513,   5.94093513,   5.94093513,   5.94093513,\n",
       "          5.94093513,   5.94093513,   5.94093513,   5.94093513,\n",
       "          5.94093513,   5.94093513],\n",
       "       [  5.96472692,   5.96472692,   5.96472692,   5.96472692,\n",
       "          5.96472692,   5.96472692,   5.96472692,   5.96472692,\n",
       "          5.96472692,   5.96472692],\n",
       "       [  5.58729219,  11.11611557,  16.60194778,  22.09349632,\n",
       "         27.44266319,  27.44266319,  27.44266319,  27.44266319,\n",
       "         27.44266319,  27.44266319],\n",
       "       [  5.61384392,  11.1410675 ,  16.44791412,  16.44791412,\n",
       "         16.44791412,  16.44791412,  16.44791412,  16.44791412,\n",
       "         16.44791412,  16.44791412],\n",
       "       [  5.94379616,   5.94379616,   5.94379616,   5.94379616,\n",
       "          5.94379616,   5.94379616,   5.94379616,   5.94379616,\n",
       "          5.94379616,   5.94379616],\n",
       "       [  5.60533619,  11.14932728,  16.64924812,  22.1324234 ,\n",
       "         27.45367813,  27.45367813,  27.45367813,  27.45367813,\n",
       "         27.45367813,  27.45367813],\n",
       "       [  5.62911129,  11.14965057,  16.45034027,  16.45034027,\n",
       "         16.45034027,  16.45034027,  16.45034027,  16.45034027,\n",
       "         16.45034027,  16.45034027],\n",
       "       [  5.59442329,  11.13098335,  16.62388039,  22.11021423,\n",
       "         27.59303856,  33.07151413,  38.54772949,  44.0259552 ,\n",
       "         49.47331619,  54.71476746],\n",
       "       [  5.99972343,   5.99972343,   5.99972343,   5.99972343,\n",
       "          5.99972343,   5.99972343,   5.99972343,   5.99972343,\n",
       "          5.99972343,   5.99972343],\n",
       "       [  5.59240246,  11.12507248,  16.61435509,  22.0974369 ,\n",
       "         27.5772686 ,  33.05290222,  38.52614212,  43.97287369,\n",
       "         49.22361755,  49.22361755],\n",
       "       [  5.58562756,  10.9288559 ,  10.9288559 ,  10.9288559 ,\n",
       "         10.9288559 ,  10.9288559 ,  10.9288559 ,  10.9288559 ,\n",
       "         10.9288559 ,  10.9288559 ],\n",
       "       [  5.60093021,  11.13983536,  16.63055038,  21.96670723,\n",
       "         21.96670723,  21.96670723,  21.96670723,  21.96670723,\n",
       "         21.96670723,  21.96670723],\n",
       "       [  5.63382244,  11.15400124,  16.45472336,  16.45472336,\n",
       "         16.45472336,  16.45472336,  16.45472336,  16.45472336,\n",
       "         16.45472336,  16.45472336],\n",
       "       [  5.58817911,  10.9454174 ,  10.9454174 ,  10.9454174 ,\n",
       "         10.9454174 ,  10.9454174 ,  10.9454174 ,  10.9454174 ,\n",
       "         10.9454174 ,  10.9454174 ],\n",
       "       [  5.60596275,  11.1485405 ,  16.64392471,  21.98524284,\n",
       "         21.98524284,  21.98524284,  21.98524284,  21.98524284,\n",
       "         21.98524284,  21.98524284],\n",
       "       [  5.59266424,  10.9573307 ,  10.9573307 ,  10.9573307 ,\n",
       "         10.9573307 ,  10.9573307 ,  10.9573307 ,  10.9573307 ,\n",
       "         10.9573307 ,  10.9573307 ],\n",
       "       [  5.98115635,   5.98115635,   5.98115635,   5.98115635,\n",
       "          5.98115635,   5.98115635,   5.98115635,   5.98115635,\n",
       "          5.98115635,   5.98115635],\n",
       "       [  5.61569977,  11.16739273,  16.65873909,  21.99587059,\n",
       "         21.99587059,  21.99587059,  21.99587059,  21.99587059,\n",
       "         21.99587059,  21.99587059],\n",
       "       [  5.96494389,   5.96494389,   5.96494389,   5.96494389,\n",
       "          5.96494389,   5.96494389,   5.96494389,   5.96494389,\n",
       "          5.96494389,   5.96494389],\n",
       "       [  5.95996857,   5.95996857,   5.95996857,   5.95996857,\n",
       "          5.95996857,   5.95996857,   5.95996857,   5.95996857,\n",
       "          5.95996857,   5.95996857],\n",
       "       [  5.98214865,   5.98214865,   5.98214865,   5.98214865,\n",
       "          5.98214865,   5.98214865,   5.98214865,   5.98214865,\n",
       "          5.98214865,   5.98214865],\n",
       "       [  5.62366009,  11.14959145,  16.45394516,  16.45394516,\n",
       "         16.45394516,  16.45394516,  16.45394516,  16.45394516,\n",
       "         16.45394516,  16.45394516],\n",
       "       [  5.6093998 ,  11.15638924,  16.65923691,  22.13856125,\n",
       "         27.45813179,  27.45813179,  27.45813179,  27.45813179,\n",
       "         27.45813179,  27.45813179],\n",
       "       [  6.00365734,   6.00365734,   6.00365734,   6.00365734,\n",
       "          6.00365734,   6.00365734,   6.00365734,   6.00365734,\n",
       "          6.00365734,   6.00365734],\n",
       "       [  5.58962011,  11.12047672,  16.60731888,  22.08738518,\n",
       "         27.58760452,  32.90970993,  32.90970993,  32.90970993,\n",
       "         32.90970993,  32.90970993],\n",
       "       [  5.58264637,  10.93470764,  10.93470764,  10.93470764,\n",
       "         10.93470764,  10.93470764,  10.93470764,  10.93470764,\n",
       "         10.93470764,  10.93470764],\n",
       "       [  5.97571135,   5.97571135,   5.97571135,   5.97571135,\n",
       "          5.97571135,   5.97571135,   5.97571135,   5.97571135,\n",
       "          5.97571135,   5.97571135],\n",
       "       [  5.56047964,  10.88978004,  10.88978004,  10.88978004,\n",
       "         10.88978004,  10.88978004,  10.88978004,  10.88978004,\n",
       "         10.88978004,  10.88978004],\n",
       "       [  5.58653593,  11.11457253,  16.59875488,  22.07658768,\n",
       "         27.5699749 ,  32.87838364,  32.87838364,  32.87838364,\n",
       "         32.87838364,  32.87838364],\n",
       "       [  5.99495697,   5.99495697,   5.99495697,   5.99495697,\n",
       "          5.99495697,   5.99495697,   5.99495697,   5.99495697,\n",
       "          5.99495697,   5.99495697]], dtype=float32)"
      ]
     },
     "execution_count": 23,
     "metadata": {},
     "output_type": "execute_result"
    }
   ],
   "source": [
    "scores.eval(feed_dict)[:,1:].sum(axis=1)"
   ]
  },
  {
   "cell_type": "code",
   "execution_count": null,
   "metadata": {
    "collapsed": true
   },
   "outputs": [],
   "source": []
  }
 ],
 "metadata": {
  "kernelspec": {
   "display_name": "Python 3",
   "language": "python",
   "name": "python3"
  },
  "language_info": {
   "codemirror_mode": {
    "name": "ipython",
    "version": 3
   },
   "file_extension": ".py",
   "mimetype": "text/x-python",
   "name": "python",
   "nbconvert_exporter": "python",
   "pygments_lexer": "ipython3",
   "version": "3.6.3"
  }
 },
 "nbformat": 4,
 "nbformat_minor": 2
}
