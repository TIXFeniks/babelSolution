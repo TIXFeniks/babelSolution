{
 "cells": [
  {
   "cell_type": "code",
   "execution_count": 6,
   "metadata": {},
   "outputs": [
    {
     "name": "stdout",
     "output_type": "stream",
     "text": [
      "The autoreload extension is already loaded. To reload it, use:\n",
      "  %reload_ext autoreload\n",
      "env: CUDA_VISIBLE_DEVICES=0\n"
     ]
    }
   ],
   "source": [
    "%load_ext autoreload\n",
    "%autoreload 2\n",
    "%env CUDA_VISIBLE_DEVICES=0\n",
    "import sys; sys.path.append('..')"
   ]
  },
  {
   "cell_type": "code",
   "execution_count": 2,
   "metadata": {},
   "outputs": [
    {
     "data": {
      "text/plain": [
       "5453204"
      ]
     },
     "execution_count": 2,
     "metadata": {},
     "output_type": "execute_result"
    }
   ],
   "source": [
    "#TMP - rm when format gets fixed\n",
    "_='\\n'.join(filter(len, open(\"./data/bpe_parallel2.txt\").read().split('\\n')))\n",
    "open(\"./data/bpe_parallel2.txt\", 'w').write(_)"
   ]
  },
  {
   "cell_type": "code",
   "execution_count": 7,
   "metadata": {},
   "outputs": [],
   "source": [
    "import numpy as np\n",
    "from vocab import Vocab, VocAdapter\n",
    "inp_voc = VocAdapter(Vocab.from_file(\"./data/1.voc\"))\n",
    "out_voc = VocAdapter(Vocab.from_file(\"./data/2.voc\"))"
   ]
  },
  {
   "cell_type": "code",
   "execution_count": 10,
   "metadata": {},
   "outputs": [],
   "source": [
    "import tensorflow as tf\n",
    "import tfnn\n",
    "import models.transformer as tr\n",
    "from lib.tensor_utils import infer_length, infer_mask\n",
    "\n",
    "tf.reset_default_graph()\n",
    "sess = tf.InteractiveSession()\n",
    "sess.run(tf.global_variables_initializer())\n",
    "\n",
    "mini_hp = {\n",
    "        'hid_size': 256,\n",
    "        'ff_size': 1024,\n",
    "        'num_heads': 4,\n",
    "        'num_layers': 2,\n",
    "    \n",
    "        'rescale_emb': True,\n",
    "        'relu_dropout': 0.,\n",
    "        'res_dropout': 0.,\n",
    "        'attn_dropout': 0.,\n",
    "        'inp_emb_bias': True,\n",
    "        'res_steps': 'nlda',\n",
    "        'normalize_out': True,\n",
    "        'force_bos': False\n",
    "}\n",
    "\n",
    "model = tr.Transformer('mod',inp_voc,out_voc,**mini_hp)"
   ]
  },
  {
   "cell_type": "code",
   "execution_count": 11,
   "metadata": {},
   "outputs": [],
   "source": [
    "from prefetch_generator import background\n",
    "from itertools import islice, chain\n",
    "from tqdm import tqdm\n",
    "class train:\n",
    "    @background(max_prefetch=100)\n",
    "    def iterate_lines(batch_size=16, batches_per_epoch=None, skip_lines=0,\n",
    "                      src_path = \"./data/bpe_parallel1.txt\",\n",
    "                      dst_path = \"./data/bpe_parallel2.txt\",\n",
    "                      ):\n",
    "        while True:\n",
    "            with open(src_path) as f_src, open(dst_path) as f_dst:\n",
    "                \n",
    "                num_lines = batches_per_epoch * batch_size if batches_per_epoch is not None else None\n",
    "                \n",
    "                f_src = islice(f_src, skip_lines, num_lines)\n",
    "                f_dst = islice(f_dst, skip_lines, num_lines)\n",
    "\n",
    "                batch = []\n",
    "                for src_line, dst_line in zip(f_src, f_dst):\n",
    "                    if len(src_line) ==0 or len(dst_line)==0: continue\n",
    "                    \n",
    "                    batch.append([src_line[:-1], dst_line[:-1]])\n",
    "                    if len(batch) >= batch_size:\n",
    "                        yield (batch)\n",
    "                        batch = []\n",
    "                \n",
    "                if batches_per_epoch is not None:\n",
    "                    raise StopIteration()        \n",
    "    \n",
    "class dev:\n",
    "    dev_src = \"./data/bpe_parallel1.txt\"\n",
    "    dev_dst = \"./data/bpe_parallel2.txt\"\n",
    "\n",
    "    inp_lines = np.array(open(dev_src).read()[:-1].split('\\n'))\n",
    "    out_lines = np.array(open(dev_dst).read()[:-1].split('\\n'))"
   ]
  },
  {
   "cell_type": "code",
   "execution_count": 12,
   "metadata": {},
   "outputs": [],
   "source": [
    "from bleu import compute_bleu"
   ]
  },
  {
   "cell_type": "code",
   "execution_count": 13,
   "metadata": {},
   "outputs": [],
   "source": [
    "_dummy = np.arange(5,30, dtype='int32').reshape([5,5])\n",
    "inp = tf.placeholder_with_default(_dummy, [None,None])\n",
    "out = tf.placeholder_with_default(_dummy, [None,None])"
   ]
  },
  {
   "cell_type": "code",
   "execution_count": 14,
   "metadata": {},
   "outputs": [],
   "source": [
    "logits = model.symbolic_score(inp, out, is_train=True)\n",
    "# logits are already alligned with out"
   ]
  },
  {
   "cell_type": "code",
   "execution_count": 16,
   "metadata": {},
   "outputs": [],
   "source": [
    "from lib.tensor_utils import infer_mask, initialize_uninitialized_variables\n",
    "\n",
    "nll = tf.nn.sparse_softmax_cross_entropy_with_logits(logits=logits, labels=out)\n",
    "\n",
    "loss = nll * infer_mask(out, out_voc.eos, dtype=tf.float32)\n",
    "\n",
    "loss = tf.reduce_sum(loss, axis=1)\n",
    "loss = tf.reduce_mean(loss)"
   ]
  },
  {
   "cell_type": "code",
   "execution_count": 17,
   "metadata": {},
   "outputs": [],
   "source": [
    "weights = tf.get_collection(tf.GraphKeys.TRAINABLE_VARIABLES, model.name)\n",
    "grads = tf.gradients(loss, weights)\n",
    "grads = tf.clip_by_global_norm(grads, 100)[0]\n",
    "train_step = tf.train.AdamOptimizer(learning_rate=1e-4).apply_gradients(zip(grads,weights))"
   ]
  },
  {
   "cell_type": "code",
   "execution_count": 18,
   "metadata": {},
   "outputs": [],
   "source": [
    "initialize_uninitialized_variables(sess)"
   ]
  },
  {
   "cell_type": "code",
   "execution_count": 19,
   "metadata": {},
   "outputs": [],
   "source": [
    "from IPython.display import clear_output\n",
    "import matplotlib.pyplot as plt\n",
    "%matplotlib inline\n",
    "from itertools import count\n",
    "from pandas import ewma\n",
    "from tqdm import tqdm\n",
    "from time import sleep\n",
    "epoch = 0\n",
    "loss_history = []"
   ]
  },
  {
   "cell_type": "code",
   "execution_count": null,
   "metadata": {},
   "outputs": [
    {
     "data": {
      "image/png": "[encoded data removed]",
      "text/plain": [
       "<matplotlib.figure.Figure at 0x7f66547e8240>"
      ]
     },
     "metadata": {},
     "output_type": "display_data"
    },
    {
     "name": "stderr",
     "output_type": "stream",
     "text": [
      "246963it [9:11:48,  7.46it/s]"
     ]
    }
   ],
   "source": [
    "batch_size = 64\n",
    "for i, batch in enumerate(tqdm(train.iterate_lines(batch_size, batches_per_epoch=None))):\n",
    "    batch_src, batch_dst = zip(*batch)\n",
    "    batch_src_ix = inp_voc._vocab.tokenize_many(batch_src)\n",
    "    batch_dst_ix = out_voc._vocab.tokenize_many(batch_dst)\n",
    "    \n",
    "    feed_dict = {inp: batch_src_ix, out: batch_dst_ix}\n",
    "    \n",
    "    loss_t = sess.run([train_step, loss], feed_dict)[1]\n",
    "    loss_history.append(np.mean(loss_t))\n",
    "    \n",
    "        \n",
    "    if (epoch+1) % 500 == 0:\n",
    "        #test_bleu_history.append([epoch,compute_bleu(model, dev.inp_lines[::5], dev.out_lines[::5])[0]])\n",
    "        \n",
    "        \n",
    "        w_variables = tf.get_collection(tf.GraphKeys.MODEL_VARIABLES, scope=\"mod/\")\n",
    "        w_values = sess.run(w_variables)\n",
    "        weights_dict = {w.name: w_val for w, w_val in zip(w_variables,w_values)}\n",
    "        np.savez(\"/home/jheuristic/mimic-model-%i.npz\"%epoch, **weights_dict)\n",
    "        \n",
    "    \n",
    "    if epoch % 10 == 0:\n",
    "        clear_output(True)\n",
    "        plt.figure(figsize=[8,8])\n",
    "        plt.title(\"batch loss\")\n",
    "        plt.plot(loss_history)\n",
    "        plt.plot(ewma(np.array(loss_history),span=50))\n",
    "        plt.grid()\n",
    "        plt.show()\n",
    "    epoch +=1\n",
    "        "
   ]
  },
  {
   "cell_type": "code",
   "execution_count": null,
   "metadata": {
    "collapsed": true
   },
   "outputs": [],
   "source": []
  }
 ],
 "metadata": {
  "kernelspec": {
   "display_name": "Python 3",
   "language": "python",
   "name": "python3"
  },
  "language_info": {
   "codemirror_mode": {
    "name": "ipython",
    "version": 3
   },
   "file_extension": ".py",
   "mimetype": "text/x-python",
   "name": "python",
   "nbconvert_exporter": "python",
   "pygments_lexer": "ipython3",
   "version": "3.5.2"
  }
 },
 "nbformat": 4,
 "nbformat_minor": 2
}
